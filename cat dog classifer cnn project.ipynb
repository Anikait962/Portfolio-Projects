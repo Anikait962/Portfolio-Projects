{
 "cells": [
  {
   "cell_type": "code",
   "execution_count": 17,
   "metadata": {},
   "outputs": [],
   "source": [
    "import tensorflow as tf\n",
    "import pandas as pd\n",
    "import matplotlib.pyplot as plt\n",
    "%matplotlib inline\n",
    "from tensorflow import keras"
   ]
  },
  {
   "cell_type": "code",
   "execution_count": 7,
   "metadata": {},
   "outputs": [],
   "source": [
    "from tensorflow.keras.preprocessing.image import ImageDataGenerator"
   ]
  },
  {
   "cell_type": "code",
   "execution_count": 9,
   "metadata": {},
   "outputs": [],
   "source": [
    "train_datagen=ImageDataGenerator(rescale=1./255,\n",
    "                                shear_range=0.2,\n",
    "                                zoom_range=0.2,\n",
    "                                horizontal_flip=True, rotation_range=100,\n",
    "    width_shift_range=0.2,\n",
    "    height_shift_range=0.2)"
   ]
  },
  {
   "cell_type": "code",
   "execution_count": 10,
   "metadata": {},
   "outputs": [
    {
     "name": "stdout",
     "output_type": "stream",
     "text": [
      "Found 8000 images belonging to 2 classes.\n"
     ]
    }
   ],
   "source": [
    "training_set=train_datagen.flow_from_directory('dataset/training_set',target_size=(64,64),batch_size=32,class_mode='binary')"
   ]
  },
  {
   "cell_type": "code",
   "execution_count": 11,
   "metadata": {},
   "outputs": [],
   "source": [
    "test_datagen = ImageDataGenerator(rescale=1./255)"
   ]
  },
  {
   "cell_type": "code",
   "execution_count": 12,
   "metadata": {},
   "outputs": [
    {
     "name": "stdout",
     "output_type": "stream",
     "text": [
      "Found 2000 images belonging to 2 classes.\n"
     ]
    }
   ],
   "source": [
    "test_set = test_datagen.flow_from_directory(\n",
    "        'dataset/test_set',\n",
    "        target_size=(64,64),\n",
    "        batch_size=32,\n",
    "        class_mode='binary')"
   ]
  },
  {
   "cell_type": "code",
   "execution_count": 13,
   "metadata": {},
   "outputs": [],
   "source": [
    "from tensorflow.keras.models import Sequential\n",
    "from tensorflow.keras.layers import Conv2D,MaxPool2D,Flatten,Dense"
   ]
  },
  {
   "cell_type": "code",
   "execution_count": 14,
   "metadata": {},
   "outputs": [],
   "source": [
    "cnn=Sequential()"
   ]
  },
  {
   "cell_type": "code",
   "execution_count": 24,
   "metadata": {},
   "outputs": [],
   "source": [
    "cnn.add(tf.keras.layers.Conv2D(filters=32,kernel_size=3,activation='relu',input_shape=[64,64,3]))"
   ]
  },
  {
   "cell_type": "code",
   "execution_count": 25,
   "metadata": {},
   "outputs": [],
   "source": [
    "cnn.add(MaxPool2D(pool_size=2,strides=2))"
   ]
  },
  {
   "cell_type": "code",
   "execution_count": 26,
   "metadata": {},
   "outputs": [],
   "source": [
    "cnn.add(tf.keras.layers.Conv2D(filters=32,kernel_size=3,activation='relu'))\n",
    "cnn.add(MaxPool2D(pool_size=2,strides=2))"
   ]
  },
  {
   "cell_type": "code",
   "execution_count": 27,
   "metadata": {},
   "outputs": [],
   "source": [
    "cnn.add(Flatten())"
   ]
  },
  {
   "cell_type": "code",
   "execution_count": 29,
   "metadata": {},
   "outputs": [],
   "source": [
    "cnn.add(Dense(128,activation='relu'))\n",
    "cnn.add(Dense(1,activation='sigmoid'))"
   ]
  },
  {
   "cell_type": "code",
   "execution_count": 32,
   "metadata": {},
   "outputs": [],
   "source": [
    "cnn.compile(optimizer='Adam',loss='binary_crossentropy',metrics=['accuracy'])"
   ]
  },
  {
   "cell_type": "code",
   "execution_count": 34,
   "metadata": {},
   "outputs": [
    {
     "name": "stdout",
     "output_type": "stream",
     "text": [
      "Epoch 1/30\n",
      "250/250 [==============================] - 73s 291ms/step - loss: 0.7086 - accuracy: 0.5372 - val_loss: 0.6086 - val_accuracy: 0.6815\n",
      "Epoch 2/30\n",
      "250/250 [==============================] - 54s 218ms/step - loss: 0.6039 - accuracy: 0.6792 - val_loss: 0.5909 - val_accuracy: 0.6980\n",
      "Epoch 3/30\n",
      "250/250 [==============================] - 54s 217ms/step - loss: 0.5756 - accuracy: 0.6935 - val_loss: 0.5473 - val_accuracy: 0.7200\n",
      "Epoch 4/30\n",
      "250/250 [==============================] - 54s 215ms/step - loss: 0.5358 - accuracy: 0.7319 - val_loss: 0.5298 - val_accuracy: 0.7330\n",
      "Epoch 5/30\n",
      "250/250 [==============================] - 54s 216ms/step - loss: 0.5168 - accuracy: 0.7507 - val_loss: 0.4889 - val_accuracy: 0.7625\n",
      "Epoch 6/30\n",
      "250/250 [==============================] - 54s 217ms/step - loss: 0.4866 - accuracy: 0.7646 - val_loss: 0.5380 - val_accuracy: 0.7120\n",
      "Epoch 7/30\n",
      "250/250 [==============================] - 50s 199ms/step - loss: 0.4794 - accuracy: 0.7706 - val_loss: 0.5121 - val_accuracy: 0.7625\n",
      "Epoch 8/30\n",
      "250/250 [==============================] - 42s 167ms/step - loss: 0.4784 - accuracy: 0.7653 - val_loss: 0.5324 - val_accuracy: 0.7425\n",
      "Epoch 9/30\n",
      "250/250 [==============================] - 43s 173ms/step - loss: 0.4585 - accuracy: 0.7840 - val_loss: 0.4790 - val_accuracy: 0.7805\n",
      "Epoch 10/30\n",
      "250/250 [==============================] - 51s 205ms/step - loss: 0.4403 - accuracy: 0.7942 - val_loss: 0.4815 - val_accuracy: 0.7795\n",
      "Epoch 11/30\n",
      "250/250 [==============================] - 56s 225ms/step - loss: 0.4176 - accuracy: 0.8093 - val_loss: 0.4881 - val_accuracy: 0.7880\n",
      "Epoch 12/30\n",
      "250/250 [==============================] - 55s 221ms/step - loss: 0.3991 - accuracy: 0.8149 - val_loss: 0.4658 - val_accuracy: 0.7915\n",
      "Epoch 13/30\n",
      "250/250 [==============================] - 57s 228ms/step - loss: 0.4126 - accuracy: 0.8077 - val_loss: 0.4897 - val_accuracy: 0.7810\n",
      "Epoch 14/30\n",
      "250/250 [==============================] - 56s 225ms/step - loss: 0.3993 - accuracy: 0.8179 - val_loss: 0.4808 - val_accuracy: 0.7850\n",
      "Epoch 15/30\n",
      "250/250 [==============================] - 60s 240ms/step - loss: 0.3871 - accuracy: 0.8273 - val_loss: 0.5033 - val_accuracy: 0.7800\n",
      "Epoch 16/30\n",
      "250/250 [==============================] - 53s 213ms/step - loss: 0.3665 - accuracy: 0.8279 - val_loss: 0.4807 - val_accuracy: 0.7850\n",
      "Epoch 17/30\n",
      "250/250 [==============================] - 47s 187ms/step - loss: 0.3696 - accuracy: 0.8406 - val_loss: 0.4567 - val_accuracy: 0.7895\n",
      "Epoch 18/30\n",
      "250/250 [==============================] - 47s 189ms/step - loss: 0.3618 - accuracy: 0.8402 - val_loss: 0.4656 - val_accuracy: 0.7935\n",
      "Epoch 19/30\n",
      "250/250 [==============================] - 57s 228ms/step - loss: 0.3497 - accuracy: 0.8472 - val_loss: 0.4487 - val_accuracy: 0.8070\n",
      "Epoch 20/30\n",
      "250/250 [==============================] - 56s 223ms/step - loss: 0.3366 - accuracy: 0.8554 - val_loss: 0.4650 - val_accuracy: 0.7965\n",
      "Epoch 21/30\n",
      "250/250 [==============================] - 56s 222ms/step - loss: 0.3268 - accuracy: 0.8560 - val_loss: 0.5049 - val_accuracy: 0.7905\n",
      "Epoch 22/30\n",
      "250/250 [==============================] - 56s 224ms/step - loss: 0.2935 - accuracy: 0.8713 - val_loss: 0.5401 - val_accuracy: 0.7850\n",
      "Epoch 23/30\n",
      "250/250 [==============================] - 54s 215ms/step - loss: 0.3206 - accuracy: 0.8616 - val_loss: 0.4823 - val_accuracy: 0.7935\n",
      "Epoch 24/30\n",
      "250/250 [==============================] - 52s 208ms/step - loss: 0.2949 - accuracy: 0.8731 - val_loss: 0.5192 - val_accuracy: 0.7855\n",
      "Epoch 25/30\n",
      "250/250 [==============================] - 57s 228ms/step - loss: 0.2796 - accuracy: 0.8868 - val_loss: 0.5405 - val_accuracy: 0.7850\n",
      "Epoch 26/30\n",
      "250/250 [==============================] - 55s 220ms/step - loss: 0.2773 - accuracy: 0.8884 - val_loss: 0.5009 - val_accuracy: 0.8025\n",
      "Epoch 27/30\n",
      "250/250 [==============================] - 51s 204ms/step - loss: 0.2622 - accuracy: 0.8848 - val_loss: 0.5185 - val_accuracy: 0.8050\n",
      "Epoch 28/30\n",
      "250/250 [==============================] - 55s 220ms/step - loss: 0.2688 - accuracy: 0.8884 - val_loss: 0.5093 - val_accuracy: 0.8090\n",
      "Epoch 29/30\n",
      "250/250 [==============================] - 52s 210ms/step - loss: 0.2333 - accuracy: 0.9048 - val_loss: 0.5436 - val_accuracy: 0.7980\n",
      "Epoch 30/30\n",
      "250/250 [==============================] - 51s 203ms/step - loss: 0.2339 - accuracy: 0.9037 - val_loss: 0.5490 - val_accuracy: 0.7930\n"
     ]
    },
    {
     "data": {
      "text/plain": [
       "<tensorflow.python.keras.callbacks.History at 0x1a87a900190>"
      ]
     },
     "execution_count": 34,
     "metadata": {},
     "output_type": "execute_result"
    }
   ],
   "source": [
    "cnn.fit(x=training_set,validation_data=test_set,epochs=30)"
   ]
  },
  {
   "cell_type": "code",
   "execution_count": 37,
   "metadata": {},
   "outputs": [
    {
     "data": {
      "text/plain": [
       "<AxesSubplot:>"
      ]
     },
     "execution_count": 37,
     "metadata": {},
     "output_type": "execute_result"
    },
    {
     "data": {
      "image/png": "[encoded data removed]",
      "text/plain": [
       "<Figure size 432x288 with 1 Axes>"
      ]
     },
     "metadata": {
      "needs_background": "light"
     },
     "output_type": "display_data"
    }
   ],
   "source": [
    "pd.DataFrame(cnn.history.history).plot()"
   ]
  },
  {
   "cell_type": "code",
   "execution_count": 39,
   "metadata": {},
   "outputs": [
    {
     "data": {
      "text/html": [
       "<div>\n",
       "<style scoped>\n",
       "    .dataframe tbody tr th:only-of-type {\n",
       "        vertical-align: middle;\n",
       "    }\n",
       "\n",
       "    .dataframe tbody tr th {\n",
       "        vertical-align: top;\n",
       "    }\n",
       "\n",
       "    .dataframe thead th {\n",
       "        text-align: right;\n",
       "    }\n",
       "</style>\n",
       "<table border=\"1\" class=\"dataframe\">\n",
       "  <thead>\n",
       "    <tr style=\"text-align: right;\">\n",
       "      <th></th>\n",
       "      <th>loss</th>\n",
       "      <th>accuracy</th>\n",
       "      <th>val_loss</th>\n",
       "      <th>val_accuracy</th>\n",
       "    </tr>\n",
       "  </thead>\n",
       "  <tbody>\n",
       "    <tr>\n",
       "      <th>0</th>\n",
       "      <td>0.669624</td>\n",
       "      <td>0.587250</td>\n",
       "      <td>0.608600</td>\n",
       "      <td>0.6815</td>\n",
       "    </tr>\n",
       "    <tr>\n",
       "      <th>1</th>\n",
       "      <td>0.592077</td>\n",
       "      <td>0.688750</td>\n",
       "      <td>0.590892</td>\n",
       "      <td>0.6980</td>\n",
       "    </tr>\n",
       "    <tr>\n",
       "      <th>2</th>\n",
       "      <td>0.557665</td>\n",
       "      <td>0.709750</td>\n",
       "      <td>0.547279</td>\n",
       "      <td>0.7200</td>\n",
       "    </tr>\n",
       "    <tr>\n",
       "      <th>3</th>\n",
       "      <td>0.533437</td>\n",
       "      <td>0.735625</td>\n",
       "      <td>0.529839</td>\n",
       "      <td>0.7330</td>\n",
       "    </tr>\n",
       "    <tr>\n",
       "      <th>4</th>\n",
       "      <td>0.511862</td>\n",
       "      <td>0.750500</td>\n",
       "      <td>0.488885</td>\n",
       "      <td>0.7625</td>\n",
       "    </tr>\n",
       "    <tr>\n",
       "      <th>5</th>\n",
       "      <td>0.490585</td>\n",
       "      <td>0.760625</td>\n",
       "      <td>0.538048</td>\n",
       "      <td>0.7120</td>\n",
       "    </tr>\n",
       "    <tr>\n",
       "      <th>6</th>\n",
       "      <td>0.482451</td>\n",
       "      <td>0.770250</td>\n",
       "      <td>0.512143</td>\n",
       "      <td>0.7625</td>\n",
       "    </tr>\n",
       "    <tr>\n",
       "      <th>7</th>\n",
       "      <td>0.469224</td>\n",
       "      <td>0.775625</td>\n",
       "      <td>0.532442</td>\n",
       "      <td>0.7425</td>\n",
       "    </tr>\n",
       "    <tr>\n",
       "      <th>8</th>\n",
       "      <td>0.450232</td>\n",
       "      <td>0.792000</td>\n",
       "      <td>0.478978</td>\n",
       "      <td>0.7805</td>\n",
       "    </tr>\n",
       "    <tr>\n",
       "      <th>9</th>\n",
       "      <td>0.439671</td>\n",
       "      <td>0.792500</td>\n",
       "      <td>0.481514</td>\n",
       "      <td>0.7795</td>\n",
       "    </tr>\n",
       "    <tr>\n",
       "      <th>10</th>\n",
       "      <td>0.424256</td>\n",
       "      <td>0.804500</td>\n",
       "      <td>0.488139</td>\n",
       "      <td>0.7880</td>\n",
       "    </tr>\n",
       "    <tr>\n",
       "      <th>11</th>\n",
       "      <td>0.408120</td>\n",
       "      <td>0.808375</td>\n",
       "      <td>0.465780</td>\n",
       "      <td>0.7915</td>\n",
       "    </tr>\n",
       "    <tr>\n",
       "      <th>12</th>\n",
       "      <td>0.402884</td>\n",
       "      <td>0.813250</td>\n",
       "      <td>0.489727</td>\n",
       "      <td>0.7810</td>\n",
       "    </tr>\n",
       "    <tr>\n",
       "      <th>13</th>\n",
       "      <td>0.397809</td>\n",
       "      <td>0.818125</td>\n",
       "      <td>0.480788</td>\n",
       "      <td>0.7850</td>\n",
       "    </tr>\n",
       "    <tr>\n",
       "      <th>14</th>\n",
       "      <td>0.380411</td>\n",
       "      <td>0.830125</td>\n",
       "      <td>0.503294</td>\n",
       "      <td>0.7800</td>\n",
       "    </tr>\n",
       "    <tr>\n",
       "      <th>15</th>\n",
       "      <td>0.373360</td>\n",
       "      <td>0.829500</td>\n",
       "      <td>0.480738</td>\n",
       "      <td>0.7850</td>\n",
       "    </tr>\n",
       "    <tr>\n",
       "      <th>16</th>\n",
       "      <td>0.366497</td>\n",
       "      <td>0.840500</td>\n",
       "      <td>0.456670</td>\n",
       "      <td>0.7895</td>\n",
       "    </tr>\n",
       "    <tr>\n",
       "      <th>17</th>\n",
       "      <td>0.351248</td>\n",
       "      <td>0.842875</td>\n",
       "      <td>0.465598</td>\n",
       "      <td>0.7935</td>\n",
       "    </tr>\n",
       "    <tr>\n",
       "      <th>18</th>\n",
       "      <td>0.349992</td>\n",
       "      <td>0.843375</td>\n",
       "      <td>0.448674</td>\n",
       "      <td>0.8070</td>\n",
       "    </tr>\n",
       "    <tr>\n",
       "      <th>19</th>\n",
       "      <td>0.334509</td>\n",
       "      <td>0.853250</td>\n",
       "      <td>0.465043</td>\n",
       "      <td>0.7965</td>\n",
       "    </tr>\n",
       "    <tr>\n",
       "      <th>20</th>\n",
       "      <td>0.319113</td>\n",
       "      <td>0.859000</td>\n",
       "      <td>0.504940</td>\n",
       "      <td>0.7905</td>\n",
       "    </tr>\n",
       "    <tr>\n",
       "      <th>21</th>\n",
       "      <td>0.302694</td>\n",
       "      <td>0.867500</td>\n",
       "      <td>0.540079</td>\n",
       "      <td>0.7850</td>\n",
       "    </tr>\n",
       "    <tr>\n",
       "      <th>22</th>\n",
       "      <td>0.311997</td>\n",
       "      <td>0.868250</td>\n",
       "      <td>0.482288</td>\n",
       "      <td>0.7935</td>\n",
       "    </tr>\n",
       "    <tr>\n",
       "      <th>23</th>\n",
       "      <td>0.290721</td>\n",
       "      <td>0.875500</td>\n",
       "      <td>0.519201</td>\n",
       "      <td>0.7855</td>\n",
       "    </tr>\n",
       "    <tr>\n",
       "      <th>24</th>\n",
       "      <td>0.279774</td>\n",
       "      <td>0.884875</td>\n",
       "      <td>0.540478</td>\n",
       "      <td>0.7850</td>\n",
       "    </tr>\n",
       "    <tr>\n",
       "      <th>25</th>\n",
       "      <td>0.281380</td>\n",
       "      <td>0.885375</td>\n",
       "      <td>0.500875</td>\n",
       "      <td>0.8025</td>\n",
       "    </tr>\n",
       "    <tr>\n",
       "      <th>26</th>\n",
       "      <td>0.260669</td>\n",
       "      <td>0.890375</td>\n",
       "      <td>0.518452</td>\n",
       "      <td>0.8050</td>\n",
       "    </tr>\n",
       "    <tr>\n",
       "      <th>27</th>\n",
       "      <td>0.262863</td>\n",
       "      <td>0.891000</td>\n",
       "      <td>0.509350</td>\n",
       "      <td>0.8090</td>\n",
       "    </tr>\n",
       "    <tr>\n",
       "      <th>28</th>\n",
       "      <td>0.238752</td>\n",
       "      <td>0.900625</td>\n",
       "      <td>0.543647</td>\n",
       "      <td>0.7980</td>\n",
       "    </tr>\n",
       "    <tr>\n",
       "      <th>29</th>\n",
       "      <td>0.232706</td>\n",
       "      <td>0.904875</td>\n",
       "      <td>0.548970</td>\n",
       "      <td>0.7930</td>\n",
       "    </tr>\n",
       "  </tbody>\n",
       "</table>\n",
       "</div>"
      ],
      "text/plain": [
       "        loss  accuracy  val_loss  val_accuracy\n",
       "0   0.669624  0.587250  0.608600        0.6815\n",
       "1   0.592077  0.688750  0.590892        0.6980\n",
       "2   0.557665  0.709750  0.547279        0.7200\n",
       "3   0.533437  0.735625  0.529839        0.7330\n",
       "4   0.511862  0.750500  0.488885        0.7625\n",
       "5   0.490585  0.760625  0.538048        0.7120\n",
       "6   0.482451  0.770250  0.512143        0.7625\n",
       "7   0.469224  0.775625  0.532442        0.7425\n",
       "8   0.450232  0.792000  0.478978        0.7805\n",
       "9   0.439671  0.792500  0.481514        0.7795\n",
       "10  0.424256  0.804500  0.488139        0.7880\n",
       "11  0.408120  0.808375  0.465780        0.7915\n",
       "12  0.402884  0.813250  0.489727        0.7810\n",
       "13  0.397809  0.818125  0.480788        0.7850\n",
       "14  0.380411  0.830125  0.503294        0.7800\n",
       "15  0.373360  0.829500  0.480738        0.7850\n",
       "16  0.366497  0.840500  0.456670        0.7895\n",
       "17  0.351248  0.842875  0.465598        0.7935\n",
       "18  0.349992  0.843375  0.448674        0.8070\n",
       "19  0.334509  0.853250  0.465043        0.7965\n",
       "20  0.319113  0.859000  0.504940        0.7905\n",
       "21  0.302694  0.867500  0.540079        0.7850\n",
       "22  0.311997  0.868250  0.482288        0.7935\n",
       "23  0.290721  0.875500  0.519201        0.7855\n",
       "24  0.279774  0.884875  0.540478        0.7850\n",
       "25  0.281380  0.885375  0.500875        0.8025\n",
       "26  0.260669  0.890375  0.518452        0.8050\n",
       "27  0.262863  0.891000  0.509350        0.8090\n",
       "28  0.238752  0.900625  0.543647        0.7980\n",
       "29  0.232706  0.904875  0.548970        0.7930"
      ]
     },
     "execution_count": 39,
     "metadata": {},
     "output_type": "execute_result"
    }
   ],
   "source": [
    "pd.DataFrame(cnn.history.history)"
   ]
  },
  {
   "cell_type": "code",
   "execution_count": 41,
   "metadata": {},
   "outputs": [
    {
     "data": {
      "text/plain": [
       "{'cats': 0, 'dogs': 1}"
      ]
     },
     "execution_count": 41,
     "metadata": {},
     "output_type": "execute_result"
    }
   ],
   "source": [
    "import numpy as np\n",
    "training_set.class_indices"
   ]
  }
 ],
 "metadata": {
  "kernelspec": {
   "display_name": "Python 3",
   "language": "python",
   "name": "python3"
  },
  "language_info": {
   "codemirror_mode": {
    "name": "ipython",
    "version": 3
   },
   "file_extension": ".py",
   "mimetype": "text/x-python",
   "name": "python",
   "nbconvert_exporter": "python",
   "pygments_lexer": "ipython3",
   "version": "3.8.5"
  }
 },
 "nbformat": 4,
 "nbformat_minor": 4
}
