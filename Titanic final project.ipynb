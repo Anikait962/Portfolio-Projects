{
 "cells": [
  {
   "cell_type": "code",
   "execution_count": 360,
   "metadata": {},
   "outputs": [],
   "source": [
    "import numpy as np\n",
    "import pandas as pd\n",
    "import matplotlib.pyplot as plt\n",
    "import seaborn as sns\n",
    "%matplotlib inline"
   ]
  },
  {
   "cell_type": "code",
   "execution_count": 361,
   "metadata": {},
   "outputs": [],
   "source": [
    "df_train=pd.read_csv('titanic_train.csv')\n",
    "df_test=pd.read_csv('titanic_test.csv')\n",
    "combine=[df_train,df_test]"
   ]
  },
  {
   "cell_type": "code",
   "execution_count": 362,
   "metadata": {},
   "outputs": [
    {
     "data": {
      "text/plain": [
       "PassengerId      0\n",
       "Survived         0\n",
       "Pclass           0\n",
       "Name             0\n",
       "Sex              0\n",
       "Age            177\n",
       "SibSp            0\n",
       "Parch            0\n",
       "Ticket           0\n",
       "Fare             0\n",
       "Cabin          687\n",
       "Embarked         2\n",
       "dtype: int64"
      ]
     },
     "execution_count": 362,
     "metadata": {},
     "output_type": "execute_result"
    }
   ],
   "source": [
    "pd.isnull(df_train).sum()"
   ]
  },
  {
   "cell_type": "code",
   "execution_count": 363,
   "metadata": {},
   "outputs": [
    {
     "data": {
      "text/plain": [
       "PassengerId      0\n",
       "Pclass           0\n",
       "Name             0\n",
       "Sex              0\n",
       "Age             86\n",
       "SibSp            0\n",
       "Parch            0\n",
       "Ticket           0\n",
       "Fare             1\n",
       "Cabin          327\n",
       "Embarked         0\n",
       "dtype: int64"
      ]
     },
     "execution_count": 363,
     "metadata": {},
     "output_type": "execute_result"
    }
   ],
   "source": [
    "pd.isnull(df_test).sum()"
   ]
  },
  {
   "cell_type": "code",
   "execution_count": 583,
   "metadata": {},
   "outputs": [
    {
     "data": {
      "text/html": [
       "<div>\n",
       "<style scoped>\n",
       "    .dataframe tbody tr th:only-of-type {\n",
       "        vertical-align: middle;\n",
       "    }\n",
       "\n",
       "    .dataframe tbody tr th {\n",
       "        vertical-align: top;\n",
       "    }\n",
       "\n",
       "    .dataframe thead th {\n",
       "        text-align: right;\n",
       "    }\n",
       "</style>\n",
       "<table border=\"1\" class=\"dataframe\">\n",
       "  <thead>\n",
       "    <tr style=\"text-align: right;\">\n",
       "      <th></th>\n",
       "      <th>Q</th>\n",
       "      <th>S</th>\n",
       "      <th>PassengerId</th>\n",
       "      <th>Survived</th>\n",
       "      <th>Pclass</th>\n",
       "      <th>Name</th>\n",
       "      <th>Sex</th>\n",
       "      <th>Age</th>\n",
       "      <th>Fare</th>\n",
       "      <th>Embarked</th>\n",
       "      <th>Title</th>\n",
       "      <th>Sex_encod</th>\n",
       "      <th>fm</th>\n",
       "    </tr>\n",
       "  </thead>\n",
       "  <tbody>\n",
       "    <tr>\n",
       "      <th>0</th>\n",
       "      <td>0</td>\n",
       "      <td>1</td>\n",
       "      <td>1</td>\n",
       "      <td>0</td>\n",
       "      <td>3</td>\n",
       "      <td>Braund, Mr. Owen Harris</td>\n",
       "      <td>male</td>\n",
       "      <td>22.00</td>\n",
       "      <td>7.25</td>\n",
       "      <td>S</td>\n",
       "      <td>0.16</td>\n",
       "      <td>0.19</td>\n",
       "      <td>1</td>\n",
       "    </tr>\n",
       "    <tr>\n",
       "      <th>1</th>\n",
       "      <td>0</td>\n",
       "      <td>0</td>\n",
       "      <td>2</td>\n",
       "      <td>1</td>\n",
       "      <td>1</td>\n",
       "      <td>Cumings, Mrs. John Bradley (Florence Briggs Th...</td>\n",
       "      <td>female</td>\n",
       "      <td>38.00</td>\n",
       "      <td>71.28</td>\n",
       "      <td>C</td>\n",
       "      <td>0.79</td>\n",
       "      <td>0.74</td>\n",
       "      <td>1</td>\n",
       "    </tr>\n",
       "    <tr>\n",
       "      <th>2</th>\n",
       "      <td>0</td>\n",
       "      <td>1</td>\n",
       "      <td>3</td>\n",
       "      <td>1</td>\n",
       "      <td>3</td>\n",
       "      <td>Heikkinen, Miss. Laina</td>\n",
       "      <td>female</td>\n",
       "      <td>26.00</td>\n",
       "      <td>7.92</td>\n",
       "      <td>S</td>\n",
       "      <td>0.70</td>\n",
       "      <td>0.74</td>\n",
       "      <td>0</td>\n",
       "    </tr>\n",
       "    <tr>\n",
       "      <th>3</th>\n",
       "      <td>0</td>\n",
       "      <td>1</td>\n",
       "      <td>4</td>\n",
       "      <td>1</td>\n",
       "      <td>1</td>\n",
       "      <td>Futrelle, Mrs. Jacques Heath (Lily May Peel)</td>\n",
       "      <td>female</td>\n",
       "      <td>35.00</td>\n",
       "      <td>53.10</td>\n",
       "      <td>S</td>\n",
       "      <td>0.79</td>\n",
       "      <td>0.74</td>\n",
       "      <td>1</td>\n",
       "    </tr>\n",
       "    <tr>\n",
       "      <th>4</th>\n",
       "      <td>0</td>\n",
       "      <td>1</td>\n",
       "      <td>5</td>\n",
       "      <td>0</td>\n",
       "      <td>3</td>\n",
       "      <td>Allen, Mr. William Henry</td>\n",
       "      <td>male</td>\n",
       "      <td>35.00</td>\n",
       "      <td>8.05</td>\n",
       "      <td>S</td>\n",
       "      <td>0.16</td>\n",
       "      <td>0.19</td>\n",
       "      <td>0</td>\n",
       "    </tr>\n",
       "  </tbody>\n",
       "</table>\n",
       "</div>"
      ],
      "text/plain": [
       "   Q  S  PassengerId  Survived  Pclass  \\\n",
       "0  0  1            1         0       3   \n",
       "1  0  0            2         1       1   \n",
       "2  0  1            3         1       3   \n",
       "3  0  1            4         1       1   \n",
       "4  0  1            5         0       3   \n",
       "\n",
       "                                                Name     Sex   Age  Fare  \\\n",
       "0                            Braund, Mr. Owen Harris    male 22.00  7.25   \n",
       "1  Cumings, Mrs. John Bradley (Florence Briggs Th...  female 38.00 71.28   \n",
       "2                             Heikkinen, Miss. Laina  female 26.00  7.92   \n",
       "3       Futrelle, Mrs. Jacques Heath (Lily May Peel)  female 35.00 53.10   \n",
       "4                           Allen, Mr. William Henry    male 35.00  8.05   \n",
       "\n",
       "  Embarked  Title  Sex_encod  fm  \n",
       "0        S   0.16       0.19   1  \n",
       "1        C   0.79       0.74   1  \n",
       "2        S   0.70       0.74   0  \n",
       "3        S   0.79       0.74   1  \n",
       "4        S   0.16       0.19   0  "
      ]
     },
     "execution_count": 583,
     "metadata": {},
     "output_type": "execute_result"
    }
   ],
   "source": [
    "df_train.head()"
   ]
  },
  {
   "cell_type": "code",
   "execution_count": 365,
   "metadata": {},
   "outputs": [],
   "source": [
    "cat_lis=[feature for feature in df_train.columns if len(df_train[feature].unique())<25]\n",
    "obj_lis=[feature for feature in df_train.columns if df_train[feature].dtype=='O' and feature not in cat_lis]\n"
   ]
  },
  {
   "cell_type": "code",
   "execution_count": 366,
   "metadata": {},
   "outputs": [],
   "source": [
    "cat_lis\n",
    "obj_lis.append('Survived')\n",
    "#Following is a list of categorical variables"
   ]
  },
  {
   "cell_type": "code",
   "execution_count": 367,
   "metadata": {},
   "outputs": [
    {
     "data": {
      "text/html": [
       "<div>\n",
       "<style scoped>\n",
       "    .dataframe tbody tr th:only-of-type {\n",
       "        vertical-align: middle;\n",
       "    }\n",
       "\n",
       "    .dataframe tbody tr th {\n",
       "        vertical-align: top;\n",
       "    }\n",
       "\n",
       "    .dataframe thead th {\n",
       "        text-align: right;\n",
       "    }\n",
       "</style>\n",
       "<table border=\"1\" class=\"dataframe\">\n",
       "  <thead>\n",
       "    <tr style=\"text-align: right;\">\n",
       "      <th></th>\n",
       "      <th>Name</th>\n",
       "      <th>Ticket</th>\n",
       "      <th>Cabin</th>\n",
       "    </tr>\n",
       "  </thead>\n",
       "  <tbody>\n",
       "    <tr>\n",
       "      <th>count</th>\n",
       "      <td>891</td>\n",
       "      <td>891</td>\n",
       "      <td>204</td>\n",
       "    </tr>\n",
       "    <tr>\n",
       "      <th>unique</th>\n",
       "      <td>891</td>\n",
       "      <td>681</td>\n",
       "      <td>147</td>\n",
       "    </tr>\n",
       "    <tr>\n",
       "      <th>top</th>\n",
       "      <td>Emir, Mr. Farred Chehab</td>\n",
       "      <td>347082</td>\n",
       "      <td>B96 B98</td>\n",
       "    </tr>\n",
       "    <tr>\n",
       "      <th>freq</th>\n",
       "      <td>1</td>\n",
       "      <td>7</td>\n",
       "      <td>4</td>\n",
       "    </tr>\n",
       "  </tbody>\n",
       "</table>\n",
       "</div>"
      ],
      "text/plain": [
       "                           Name  Ticket    Cabin\n",
       "count                       891     891      204\n",
       "unique                      891     681      147\n",
       "top     Emir, Mr. Farred Chehab  347082  B96 B98\n",
       "freq                          1       7        4"
      ]
     },
     "execution_count": 367,
     "metadata": {},
     "output_type": "execute_result"
    }
   ],
   "source": [
    "#now lets get some info on these features\n",
    "# and then find out the correlation between these variables and the outcome\n",
    "\n",
    "df_train[obj_lis].describe(include=[object])"
   ]
  },
  {
   "cell_type": "code",
   "execution_count": 368,
   "metadata": {},
   "outputs": [],
   "source": [
    "#every name is unique \n",
    "# ticket contains 210 duplicate values\n",
    "#ticket column is not that useful"
   ]
  },
  {
   "cell_type": "code",
   "execution_count": 369,
   "metadata": {},
   "outputs": [],
   "source": [
    "def intcon(x):\n",
    "    try:\n",
    "        int(x)\n",
    "        return True\n",
    "    except:\n",
    "        return False"
   ]
  },
  {
   "cell_type": "code",
   "execution_count": 370,
   "metadata": {},
   "outputs": [],
   "source": [
    "pd.set_option(\"display.max_rows\", None)\n",
    "for data in combine:\n",
    "    data['Ticket_type']=np.where(data.Ticket.apply(intcon)==True,1,0)"
   ]
  },
  {
   "cell_type": "code",
   "execution_count": 371,
   "metadata": {},
   "outputs": [],
   "source": [
    "combine=[df_train,df_test]"
   ]
  },
  {
   "cell_type": "code",
   "execution_count": 372,
   "metadata": {},
   "outputs": [
    {
     "data": {
      "text/plain": [
       "Ticket_type\n",
       "0   0.38\n",
       "1   0.38\n",
       "Name: Survived, dtype: float64"
      ]
     },
     "execution_count": 372,
     "metadata": {},
     "output_type": "execute_result"
    }
   ],
   "source": [
    "\n",
    "df_train.groupby('Ticket_type').mean()['Survived']"
   ]
  },
  {
   "cell_type": "code",
   "execution_count": 373,
   "metadata": {},
   "outputs": [],
   "source": [
    "#no insights can be derived from ticket feature so we drop it"
   ]
  },
  {
   "cell_type": "code",
   "execution_count": 374,
   "metadata": {},
   "outputs": [],
   "source": [
    "for data in combine:\n",
    "    data.drop(['Ticket','Ticket_type'],axis=1,inplace=True)"
   ]
  },
  {
   "cell_type": "code",
   "execution_count": 375,
   "metadata": {},
   "outputs": [],
   "source": [
    "combine=[df_train,df_test]"
   ]
  },
  {
   "cell_type": "code",
   "execution_count": 376,
   "metadata": {},
   "outputs": [
    {
     "data": {
      "text/plain": [
       "687"
      ]
     },
     "execution_count": 376,
     "metadata": {},
     "output_type": "execute_result"
    }
   ],
   "source": [
    "pd.isnull(df_train.Cabin).sum()"
   ]
  },
  {
   "cell_type": "code",
   "execution_count": 377,
   "metadata": {},
   "outputs": [],
   "source": [
    "#cabin has too many missing values so we drop it"
   ]
  },
  {
   "cell_type": "code",
   "execution_count": 378,
   "metadata": {},
   "outputs": [],
   "source": [
    "for data in combine:\n",
    "    data.drop(['Cabin'],axis=1,inplace=True)"
   ]
  },
  {
   "cell_type": "code",
   "execution_count": 379,
   "metadata": {},
   "outputs": [],
   "source": [
    "combine=[df_train,df_test]"
   ]
  },
  {
   "cell_type": "code",
   "execution_count": 380,
   "metadata": {},
   "outputs": [],
   "source": [
    "#comming to name feature"
   ]
  },
  {
   "cell_type": "code",
   "execution_count": 381,
   "metadata": {},
   "outputs": [],
   "source": [
    "def extract(name):\n",
    "    for i,x in enumerate(name):\n",
    "        if x==',':\n",
    "            y=i\n",
    "        \n",
    "        elif x=='.':\n",
    "            z=i\n",
    "            break\n",
    "            \n",
    "    return name[y+2:z]\n",
    "    "
   ]
  },
  {
   "cell_type": "code",
   "execution_count": 382,
   "metadata": {},
   "outputs": [],
   "source": [
    "for data in combine:\n",
    "    data['Title']=data['Name'].apply(extract)"
   ]
  },
  {
   "cell_type": "code",
   "execution_count": 383,
   "metadata": {},
   "outputs": [],
   "source": [
    "combine=[df_train,df_test]"
   ]
  },
  {
   "cell_type": "code",
   "execution_count": 384,
   "metadata": {},
   "outputs": [
    {
     "data": {
      "text/plain": [
       "<AxesSubplot:xlabel='Title'>"
      ]
     },
     "execution_count": 384,
     "metadata": {},
     "output_type": "execute_result"
    },
    {
     "data": {
      "image/png": "[encoded data removed]",
      "text/plain": [
       "<Figure size 432x288 with 1 Axes>"
      ]
     },
     "metadata": {
      "needs_background": "light"
     },
     "output_type": "display_data"
    }
   ],
   "source": [
    "df_train.groupby('Title').mean()['Survived'].sort_values().plot.bar()"
   ]
  },
  {
   "cell_type": "code",
   "execution_count": 385,
   "metadata": {},
   "outputs": [],
   "source": [
    "#this seems to be highly correlated so we can keep this feature"
   ]
  },
  {
   "cell_type": "code",
   "execution_count": 386,
   "metadata": {},
   "outputs": [],
   "source": [
    "# we will mean encode the Title feature"
   ]
  },
  {
   "cell_type": "code",
   "execution_count": 387,
   "metadata": {},
   "outputs": [],
   "source": [
    "mapper=dict(df_train.groupby('Title').mean()['Survived'])"
   ]
  },
  {
   "cell_type": "code",
   "execution_count": null,
   "metadata": {},
   "outputs": [],
   "source": []
  },
  {
   "cell_type": "code",
   "execution_count": 388,
   "metadata": {},
   "outputs": [
    {
     "data": {
      "text/plain": [
       "<AxesSubplot:xlabel='Title', ylabel='count'>"
      ]
     },
     "execution_count": 388,
     "metadata": {},
     "output_type": "execute_result"
    },
    {
     "data": {
      "image/png": "[encoded data removed]",
      "text/plain": [
       "<Figure size 1440x576 with 1 Axes>"
      ]
     },
     "metadata": {
      "needs_background": "light"
     },
     "output_type": "display_data"
    }
   ],
   "source": [
    "plt.figure(figsize=(20,8))\n",
    "sns.countplot(data=df_train,x='Title',hue='Survived')"
   ]
  },
  {
   "cell_type": "code",
   "execution_count": 389,
   "metadata": {},
   "outputs": [],
   "source": [
    "for data in combine:\n",
    "    data['Title']=data['Title'].map(mapper)"
   ]
  },
  {
   "cell_type": "code",
   "execution_count": 390,
   "metadata": {},
   "outputs": [],
   "source": [
    "combine2=[df_train,df_test]"
   ]
  },
  {
   "cell_type": "code",
   "execution_count": 391,
   "metadata": {},
   "outputs": [],
   "source": [
    "#now that we are finished with obj type columns with >25 values lets move onto categorical features"
   ]
  },
  {
   "cell_type": "code",
   "execution_count": 392,
   "metadata": {},
   "outputs": [
    {
     "data": {
      "text/plain": [
       "['Survived', 'Pclass', 'Sex', 'SibSp', 'Parch', 'Embarked']"
      ]
     },
     "execution_count": 392,
     "metadata": {},
     "output_type": "execute_result"
    }
   ],
   "source": [
    "cat_lis"
   ]
  },
  {
   "cell_type": "code",
   "execution_count": 393,
   "metadata": {},
   "outputs": [],
   "source": [
    "# lets analyze each of these features one by one"
   ]
  },
  {
   "cell_type": "code",
   "execution_count": 394,
   "metadata": {},
   "outputs": [
    {
     "data": {
      "text/plain": [
       "Pclass\n",
       "1   0.63\n",
       "2   0.47\n",
       "3   0.24\n",
       "Name: Survived, dtype: float64"
      ]
     },
     "execution_count": 394,
     "metadata": {},
     "output_type": "execute_result"
    }
   ],
   "source": [
    "df_train.groupby('Pclass').mean()['Survived']"
   ]
  },
  {
   "cell_type": "code",
   "execution_count": 395,
   "metadata": {},
   "outputs": [],
   "source": [
    "#we can see that pclass is an ordinal lable with the values of survived going down as the class value increases\n"
   ]
  },
  {
   "cell_type": "code",
   "execution_count": 396,
   "metadata": {},
   "outputs": [
    {
     "data": {
      "text/plain": [
       "<AxesSubplot:xlabel='Pclass'>"
      ]
     },
     "execution_count": 396,
     "metadata": {},
     "output_type": "execute_result"
    },
    {
     "data": {
      "image/png": "[encoded data removed]",
      "text/plain": [
       "<Figure size 432x288 with 1 Axes>"
      ]
     },
     "metadata": {
      "needs_background": "light"
     },
     "output_type": "display_data"
    }
   ],
   "source": [
    "df_train.groupby('Pclass').mean()['Survived'].plot.bar()"
   ]
  },
  {
   "cell_type": "code",
   "execution_count": 397,
   "metadata": {},
   "outputs": [],
   "source": [
    "# people from class upper classes had a higher chance of surviving"
   ]
  },
  {
   "cell_type": "code",
   "execution_count": 398,
   "metadata": {},
   "outputs": [
    {
     "data": {
      "text/plain": [
       "Sex\n",
       "female   0.74\n",
       "male     0.19\n",
       "Name: Survived, dtype: float64"
      ]
     },
     "execution_count": 398,
     "metadata": {},
     "output_type": "execute_result"
    }
   ],
   "source": [
    "df_train.groupby('Sex').mean()['Survived']"
   ]
  },
  {
   "cell_type": "code",
   "execution_count": 399,
   "metadata": {},
   "outputs": [],
   "source": [
    "#females clearly have a higher chance of survival so let us mean encode this column"
   ]
  },
  {
   "cell_type": "code",
   "execution_count": 400,
   "metadata": {},
   "outputs": [],
   "source": [
    "mapper=dict(df_train.groupby('Sex').mean()['Survived'])"
   ]
  },
  {
   "cell_type": "code",
   "execution_count": 401,
   "metadata": {},
   "outputs": [],
   "source": [
    "for data in combine2:\n",
    "    data['Sex_encod']=data['Sex'].map(mapper)"
   ]
  },
  {
   "cell_type": "code",
   "execution_count": 402,
   "metadata": {},
   "outputs": [],
   "source": [
    "combine2=[df_train,df_test]"
   ]
  },
  {
   "cell_type": "code",
   "execution_count": 403,
   "metadata": {},
   "outputs": [
    {
     "data": {
      "text/plain": [
       "SibSp\n",
       "0   0.35\n",
       "1   0.54\n",
       "2   0.46\n",
       "3   0.25\n",
       "4   0.17\n",
       "5   0.00\n",
       "8   0.00\n",
       "Name: Survived, dtype: float64"
      ]
     },
     "execution_count": 403,
     "metadata": {},
     "output_type": "execute_result"
    }
   ],
   "source": [
    "df_train.groupby('SibSp').mean()['Survived']"
   ]
  },
  {
   "cell_type": "code",
   "execution_count": 404,
   "metadata": {},
   "outputs": [
    {
     "data": {
      "text/plain": [
       "Parch\n",
       "0   0.34\n",
       "1   0.55\n",
       "2   0.50\n",
       "3   0.60\n",
       "4   0.00\n",
       "5   0.20\n",
       "6   0.00\n",
       "Name: Survived, dtype: float64"
      ]
     },
     "execution_count": 404,
     "metadata": {},
     "output_type": "execute_result"
    }
   ],
   "source": [
    "df_train.groupby('Parch').mean()['Survived']"
   ]
  },
  {
   "cell_type": "code",
   "execution_count": 405,
   "metadata": {},
   "outputs": [],
   "source": [
    "#since both have relatively low correlation let us add them to craete a total family members group and drop the orignal featurs"
   ]
  },
  {
   "cell_type": "code",
   "execution_count": 406,
   "metadata": {},
   "outputs": [],
   "source": [
    "for data in combine2:\n",
    "    data['fm']=data['Parch']+data['SibSp']"
   ]
  },
  {
   "cell_type": "code",
   "execution_count": 407,
   "metadata": {},
   "outputs": [],
   "source": [
    "combine2=[df_train,df_test]"
   ]
  },
  {
   "cell_type": "code",
   "execution_count": 408,
   "metadata": {},
   "outputs": [],
   "source": [
    "for data in combine2:\n",
    "    data.drop(['Parch','SibSp'],axis=1,inplace=True)\n",
    "    "
   ]
  },
  {
   "cell_type": "code",
   "execution_count": 409,
   "metadata": {},
   "outputs": [],
   "source": [
    "combine2=[df_train,df_test]"
   ]
  },
  {
   "cell_type": "code",
   "execution_count": 410,
   "metadata": {},
   "outputs": [
    {
     "data": {
      "text/plain": [
       "fm\n",
       "0    0.30\n",
       "1    0.55\n",
       "2    0.58\n",
       "3    0.72\n",
       "4    0.20\n",
       "5    0.14\n",
       "6    0.33\n",
       "7    0.00\n",
       "10   0.00\n",
       "Name: Survived, dtype: float64"
      ]
     },
     "execution_count": 410,
     "metadata": {},
     "output_type": "execute_result"
    }
   ],
   "source": [
    "df_train.groupby('fm').mean()['Survived']"
   ]
  },
  {
   "cell_type": "code",
   "execution_count": 411,
   "metadata": {},
   "outputs": [],
   "source": [
    "#it seems those with 0 family members were most likely to die probably because they were in lower class\n",
    "# let us test out this hypothesis"
   ]
  },
  {
   "cell_type": "code",
   "execution_count": 412,
   "metadata": {},
   "outputs": [
    {
     "data": {
      "text/plain": [
       "<seaborn.axisgrid.FacetGrid at 0x1d10dcfb880>"
      ]
     },
     "execution_count": 412,
     "metadata": {},
     "output_type": "execute_result"
    },
    {
     "data": {
      "image/png": "[encoded data removed]",
      "text/plain": [
       "<Figure size 502.5x648 with 6 Axes>"
      ]
     },
     "metadata": {
      "needs_background": "light"
     },
     "output_type": "display_data"
    }
   ],
   "source": [
    "g=sns.FacetGrid(data=df_train,col='Survived',row='Pclass',hue='Sex')\n",
    "g.map(sns.countplot,'fm')\n",
    "g.add_legend()"
   ]
  },
  {
   "cell_type": "code",
   "execution_count": 413,
   "metadata": {},
   "outputs": [],
   "source": [
    "#this summirizes our fidings till now \n",
    "#we see even in first class those who have survived are mostly women this could be because women and children\n",
    "#are given a priroty while assigning lifeboats \n",
    "#we also see a large amount of single people in lower class hence our previous hypothesis is also confirmed"
   ]
  },
  {
   "cell_type": "code",
   "execution_count": 414,
   "metadata": {},
   "outputs": [
    {
     "data": {
      "text/plain": [
       "Embarked\n",
       "C   0.55\n",
       "Q   0.39\n",
       "S   0.34\n",
       "Name: Survived, dtype: float64"
      ]
     },
     "execution_count": 414,
     "metadata": {},
     "output_type": "execute_result"
    }
   ],
   "source": [
    "df_train.groupby('Embarked').mean()['Survived']"
   ]
  },
  {
   "cell_type": "code",
   "execution_count": 415,
   "metadata": {},
   "outputs": [],
   "source": [
    "#let us one hot encode the embarked column because there is not alot of correlation"
   ]
  },
  {
   "cell_type": "code",
   "execution_count": 416,
   "metadata": {},
   "outputs": [],
   "source": [
    "df_t=pd.get_dummies(df_train['Embarked'],drop_first=True)\n",
    "df_train=pd.concat([df_t,df_train],axis=1)\n",
    "    \n"
   ]
  },
  {
   "cell_type": "code",
   "execution_count": 417,
   "metadata": {},
   "outputs": [],
   "source": [
    "df_t=pd.get_dummies(df_test['Embarked'],drop_first=True)\n",
    "df_test=pd.concat([df_t,df_test],axis=1)"
   ]
  },
  {
   "cell_type": "code",
   "execution_count": null,
   "metadata": {},
   "outputs": [],
   "source": []
  },
  {
   "cell_type": "code",
   "execution_count": 418,
   "metadata": {},
   "outputs": [],
   "source": [
    "combine2=[df_train,df_test]"
   ]
  },
  {
   "cell_type": "code",
   "execution_count": 419,
   "metadata": {},
   "outputs": [],
   "source": [
    "#let us move on to the numerical features with >25 unique values\n",
    "#there are only two such features age and fare since passenger id does not indicate anything"
   ]
  },
  {
   "cell_type": "code",
   "execution_count": 420,
   "metadata": {},
   "outputs": [
    {
     "data": {
      "text/html": [
       "<div>\n",
       "<style scoped>\n",
       "    .dataframe tbody tr th:only-of-type {\n",
       "        vertical-align: middle;\n",
       "    }\n",
       "\n",
       "    .dataframe tbody tr th {\n",
       "        vertical-align: top;\n",
       "    }\n",
       "\n",
       "    .dataframe thead th {\n",
       "        text-align: right;\n",
       "    }\n",
       "</style>\n",
       "<table border=\"1\" class=\"dataframe\">\n",
       "  <thead>\n",
       "    <tr style=\"text-align: right;\">\n",
       "      <th></th>\n",
       "      <th>Q</th>\n",
       "      <th>S</th>\n",
       "      <th>PassengerId</th>\n",
       "      <th>Survived</th>\n",
       "      <th>Pclass</th>\n",
       "      <th>Name</th>\n",
       "      <th>Sex</th>\n",
       "      <th>Age</th>\n",
       "      <th>Fare</th>\n",
       "      <th>Embarked</th>\n",
       "      <th>Title</th>\n",
       "      <th>Sex_encod</th>\n",
       "      <th>fm</th>\n",
       "    </tr>\n",
       "  </thead>\n",
       "  <tbody>\n",
       "    <tr>\n",
       "      <th>0</th>\n",
       "      <td>0</td>\n",
       "      <td>1</td>\n",
       "      <td>1</td>\n",
       "      <td>0</td>\n",
       "      <td>3</td>\n",
       "      <td>Braund, Mr. Owen Harris</td>\n",
       "      <td>male</td>\n",
       "      <td>22.00</td>\n",
       "      <td>7.25</td>\n",
       "      <td>S</td>\n",
       "      <td>0.16</td>\n",
       "      <td>0.19</td>\n",
       "      <td>1</td>\n",
       "    </tr>\n",
       "    <tr>\n",
       "      <th>1</th>\n",
       "      <td>0</td>\n",
       "      <td>0</td>\n",
       "      <td>2</td>\n",
       "      <td>1</td>\n",
       "      <td>1</td>\n",
       "      <td>Cumings, Mrs. John Bradley (Florence Briggs Th...</td>\n",
       "      <td>female</td>\n",
       "      <td>38.00</td>\n",
       "      <td>71.28</td>\n",
       "      <td>C</td>\n",
       "      <td>0.79</td>\n",
       "      <td>0.74</td>\n",
       "      <td>1</td>\n",
       "    </tr>\n",
       "    <tr>\n",
       "      <th>2</th>\n",
       "      <td>0</td>\n",
       "      <td>1</td>\n",
       "      <td>3</td>\n",
       "      <td>1</td>\n",
       "      <td>3</td>\n",
       "      <td>Heikkinen, Miss. Laina</td>\n",
       "      <td>female</td>\n",
       "      <td>26.00</td>\n",
       "      <td>7.92</td>\n",
       "      <td>S</td>\n",
       "      <td>0.70</td>\n",
       "      <td>0.74</td>\n",
       "      <td>0</td>\n",
       "    </tr>\n",
       "    <tr>\n",
       "      <th>3</th>\n",
       "      <td>0</td>\n",
       "      <td>1</td>\n",
       "      <td>4</td>\n",
       "      <td>1</td>\n",
       "      <td>1</td>\n",
       "      <td>Futrelle, Mrs. Jacques Heath (Lily May Peel)</td>\n",
       "      <td>female</td>\n",
       "      <td>35.00</td>\n",
       "      <td>53.10</td>\n",
       "      <td>S</td>\n",
       "      <td>0.79</td>\n",
       "      <td>0.74</td>\n",
       "      <td>1</td>\n",
       "    </tr>\n",
       "    <tr>\n",
       "      <th>4</th>\n",
       "      <td>0</td>\n",
       "      <td>1</td>\n",
       "      <td>5</td>\n",
       "      <td>0</td>\n",
       "      <td>3</td>\n",
       "      <td>Allen, Mr. William Henry</td>\n",
       "      <td>male</td>\n",
       "      <td>35.00</td>\n",
       "      <td>8.05</td>\n",
       "      <td>S</td>\n",
       "      <td>0.16</td>\n",
       "      <td>0.19</td>\n",
       "      <td>0</td>\n",
       "    </tr>\n",
       "  </tbody>\n",
       "</table>\n",
       "</div>"
      ],
      "text/plain": [
       "   Q  S  PassengerId  Survived  Pclass  \\\n",
       "0  0  1            1         0       3   \n",
       "1  0  0            2         1       1   \n",
       "2  0  1            3         1       3   \n",
       "3  0  1            4         1       1   \n",
       "4  0  1            5         0       3   \n",
       "\n",
       "                                                Name     Sex   Age  Fare  \\\n",
       "0                            Braund, Mr. Owen Harris    male 22.00  7.25   \n",
       "1  Cumings, Mrs. John Bradley (Florence Briggs Th...  female 38.00 71.28   \n",
       "2                             Heikkinen, Miss. Laina  female 26.00  7.92   \n",
       "3       Futrelle, Mrs. Jacques Heath (Lily May Peel)  female 35.00 53.10   \n",
       "4                           Allen, Mr. William Henry    male 35.00  8.05   \n",
       "\n",
       "  Embarked  Title  Sex_encod  fm  \n",
       "0        S   0.16       0.19   1  \n",
       "1        C   0.79       0.74   1  \n",
       "2        S   0.70       0.74   0  \n",
       "3        S   0.79       0.74   1  \n",
       "4        S   0.16       0.19   0  "
      ]
     },
     "execution_count": 420,
     "metadata": {},
     "output_type": "execute_result"
    }
   ],
   "source": [
    "df_train.head()"
   ]
  },
  {
   "cell_type": "code",
   "execution_count": 421,
   "metadata": {},
   "outputs": [
    {
     "data": {
      "image/png": "[encoded data removed]",
      "text/plain": [
       "<Figure size 432x288 with 1 Axes>"
      ]
     },
     "metadata": {
      "needs_background": "light"
     },
     "output_type": "display_data"
    },
    {
     "data": {
      "image/png": "[encoded data removed]",
      "text/plain": [
       "<Figure size 432x288 with 1 Axes>"
      ]
     },
     "metadata": {
      "needs_background": "light"
     },
     "output_type": "display_data"
    }
   ],
   "source": [
    "#let us check the distribution of both theses features\n",
    "num_lis=['Age','Fare']\n",
    "for x in num_lis:\n",
    "    sns.histplot(data=df_train,x=x)\n",
    "    plt.show()"
   ]
  },
  {
   "cell_type": "code",
   "execution_count": 422,
   "metadata": {},
   "outputs": [],
   "source": [
    "#the distribution of age is vey near gausian so we will avoid normalizing"
   ]
  },
  {
   "cell_type": "code",
   "execution_count": 423,
   "metadata": {},
   "outputs": [
    {
     "data": {
      "text/plain": [
       "<seaborn.axisgrid.FacetGrid at 0x1d116f14130>"
      ]
     },
     "execution_count": 423,
     "metadata": {},
     "output_type": "execute_result"
    },
    {
     "data": {
      "text/plain": [
       "<Figure size 720x720 with 0 Axes>"
      ]
     },
     "metadata": {},
     "output_type": "display_data"
    },
    {
     "data": {
      "image/png": "[encoded data removed]",
      "text/plain": [
       "<Figure size 440x648 with 6 Axes>"
      ]
     },
     "metadata": {
      "needs_background": "light"
     },
     "output_type": "display_data"
    }
   ],
   "source": [
    "grid = sns.FacetGrid(df_train, col='Survived', row='Pclass')\n",
    "plt.figure(figsize=(10,10))\n",
    "grid.map(plt.hist, 'Age')\n",
    "grid.add_legend()"
   ]
  },
  {
   "cell_type": "code",
   "execution_count": 424,
   "metadata": {},
   "outputs": [],
   "source": [
    "# most of the younger people were in Pclass 3 and hence alot of them died"
   ]
  },
  {
   "cell_type": "code",
   "execution_count": 425,
   "metadata": {},
   "outputs": [],
   "source": [
    "#let us log normalize the skewed fare data "
   ]
  },
  {
   "cell_type": "code",
   "execution_count": 426,
   "metadata": {},
   "outputs": [],
   "source": [
    "data=df_train.copy()"
   ]
  },
  {
   "cell_type": "code",
   "execution_count": 427,
   "metadata": {},
   "outputs": [],
   "source": [
    "data['Fare']=np.where(data['Fare']!=0,np.log(data['Fare']),0)"
   ]
  },
  {
   "cell_type": "code",
   "execution_count": 428,
   "metadata": {},
   "outputs": [
    {
     "data": {
      "text/plain": [
       "<AxesSubplot:xlabel='Fare', ylabel='Count'>"
      ]
     },
     "execution_count": 428,
     "metadata": {},
     "output_type": "execute_result"
    },
    {
     "data": {
      "image/png": "[encoded data removed]",
      "text/plain": [
       "<Figure size 432x288 with 1 Axes>"
      ]
     },
     "metadata": {
      "needs_background": "light"
     },
     "output_type": "display_data"
    }
   ],
   "source": [
    "sns.histplot(x=data['Fare'])"
   ]
  },
  {
   "cell_type": "code",
   "execution_count": 429,
   "metadata": {},
   "outputs": [],
   "source": [
    "#now to take care of the null values"
   ]
  },
  {
   "cell_type": "code",
   "execution_count": 430,
   "metadata": {},
   "outputs": [
    {
     "data": {
      "text/plain": [
       "Q                0\n",
       "S                0\n",
       "PassengerId      0\n",
       "Survived         0\n",
       "Pclass           0\n",
       "Name             0\n",
       "Sex              0\n",
       "Age            177\n",
       "Fare             0\n",
       "Embarked         2\n",
       "Title            0\n",
       "Sex_encod        0\n",
       "fm               0\n",
       "dtype: int64"
      ]
     },
     "execution_count": 430,
     "metadata": {},
     "output_type": "execute_result"
    }
   ],
   "source": [
    "pd.isnull(df_train).sum()"
   ]
  },
  {
   "cell_type": "code",
   "execution_count": 431,
   "metadata": {},
   "outputs": [
    {
     "data": {
      "text/plain": [
       "Q               0\n",
       "S               0\n",
       "PassengerId     0\n",
       "Pclass          0\n",
       "Name            0\n",
       "Sex             0\n",
       "Age            86\n",
       "Fare            1\n",
       "Embarked        0\n",
       "Title           1\n",
       "Sex_encod       0\n",
       "fm              0\n",
       "dtype: int64"
      ]
     },
     "execution_count": 431,
     "metadata": {},
     "output_type": "execute_result"
    }
   ],
   "source": [
    "pd.isnull(df_test).sum()"
   ]
  },
  {
   "cell_type": "code",
   "execution_count": 432,
   "metadata": {},
   "outputs": [
    {
     "data": {
      "text/plain": [
       "Pclass\n",
       "1   38.23\n",
       "2   29.88\n",
       "3   25.14\n",
       "Name: Age, dtype: float64"
      ]
     },
     "execution_count": 432,
     "metadata": {},
     "output_type": "execute_result"
    }
   ],
   "source": [
    "#let us replace missing age values by mean values of that pclass\n",
    "df_train.groupby('Pclass').mean()['Age']"
   ]
  },
  {
   "cell_type": "code",
   "execution_count": 433,
   "metadata": {},
   "outputs": [],
   "source": [
    "def avg_age_train(cols):\n",
    "    Age = cols[0]\n",
    "    Pclass = cols[1]\n",
    "    \n",
    "    if pd.isnull(Age):\n",
    "\n",
    "        if Pclass == 1:\n",
    "            return 38\n",
    "\n",
    "        elif Pclass == 2:\n",
    "            return 29\n",
    "\n",
    "        else:\n",
    "            return 25\n",
    "\n",
    "    else:\n",
    "        return Age"
   ]
  },
  {
   "cell_type": "code",
   "execution_count": 434,
   "metadata": {},
   "outputs": [],
   "source": [
    "df_train['Age']=df_train[['Age','Pclass']].apply(avg_age_train,axis=1)"
   ]
  },
  {
   "cell_type": "code",
   "execution_count": 435,
   "metadata": {},
   "outputs": [
    {
     "data": {
      "text/plain": [
       "Q              0\n",
       "S              0\n",
       "PassengerId    0\n",
       "Survived       0\n",
       "Pclass         0\n",
       "Name           0\n",
       "Sex            0\n",
       "Age            0\n",
       "Fare           0\n",
       "Embarked       2\n",
       "Title          0\n",
       "Sex_encod      0\n",
       "fm             0\n",
       "dtype: int64"
      ]
     },
     "execution_count": 435,
     "metadata": {},
     "output_type": "execute_result"
    }
   ],
   "source": [
    "pd.isnull(df_train).sum()"
   ]
  },
  {
   "cell_type": "code",
   "execution_count": 436,
   "metadata": {},
   "outputs": [
    {
     "data": {
      "text/plain": [
       "Pclass\n",
       "1   40.92\n",
       "2   28.78\n",
       "3   24.03\n",
       "Name: Age, dtype: float64"
      ]
     },
     "execution_count": 436,
     "metadata": {},
     "output_type": "execute_result"
    }
   ],
   "source": [
    "df_test.groupby('Pclass').mean()['Age']"
   ]
  },
  {
   "cell_type": "code",
   "execution_count": 437,
   "metadata": {},
   "outputs": [],
   "source": [
    "def avg_age_test(cols):\n",
    "    Age = cols[0]\n",
    "    Pclass = cols[1]\n",
    "    \n",
    "    if pd.isnull(Age):\n",
    "\n",
    "        if Pclass == 1:\n",
    "            return 40\n",
    "\n",
    "        elif Pclass == 2:\n",
    "            return 28\n",
    "\n",
    "        else:\n",
    "            return 24\n",
    "\n",
    "    else:\n",
    "        return Age"
   ]
  },
  {
   "cell_type": "code",
   "execution_count": 438,
   "metadata": {},
   "outputs": [],
   "source": [
    "df_test['Age']=df_test[['Age','Pclass']].apply(avg_age_test,axis=1)"
   ]
  },
  {
   "cell_type": "code",
   "execution_count": 452,
   "metadata": {},
   "outputs": [
    {
     "data": {
      "text/plain": [
       "Q              0\n",
       "S              0\n",
       "PassengerId    0\n",
       "Pclass         0\n",
       "Name           0\n",
       "Sex            0\n",
       "Age            0\n",
       "Fare           0\n",
       "Embarked       0\n",
       "Title          0\n",
       "Sex_encod      0\n",
       "fm             0\n",
       "dtype: int64"
      ]
     },
     "execution_count": 452,
     "metadata": {},
     "output_type": "execute_result"
    }
   ],
   "source": [
    "pd.isnull(df_test).sum()"
   ]
  },
  {
   "cell_type": "code",
   "execution_count": 440,
   "metadata": {},
   "outputs": [],
   "source": [
    "df_train.dropna(inplace=True)\n",
    "df_test['Fare']=df_test['Fare'].fillna(df_test['Fare'].mean())\n"
   ]
  },
  {
   "cell_type": "code",
   "execution_count": 453,
   "metadata": {},
   "outputs": [],
   "source": [
    "df_test['Title']=df_test['Title'].fillna(df_test['Title'].mean())"
   ]
  },
  {
   "cell_type": "code",
   "execution_count": 454,
   "metadata": {},
   "outputs": [],
   "source": [
    "df1=df_train.copy()"
   ]
  },
  {
   "cell_type": "code",
   "execution_count": 455,
   "metadata": {},
   "outputs": [],
   "source": [
    "df1.drop(['PassengerId','Name','Sex','Embarked'],inplace=True,axis=1)"
   ]
  },
  {
   "cell_type": "code",
   "execution_count": 456,
   "metadata": {},
   "outputs": [],
   "source": [
    "df2=df_test.copy()"
   ]
  },
  {
   "cell_type": "code",
   "execution_count": 457,
   "metadata": {},
   "outputs": [],
   "source": [
    "df2.drop(['PassengerId','Name','Sex','Embarked'],inplace=True,axis=1)"
   ]
  },
  {
   "cell_type": "code",
   "execution_count": 458,
   "metadata": {},
   "outputs": [],
   "source": [
    "import lazypredict"
   ]
  },
  {
   "cell_type": "code",
   "execution_count": 459,
   "metadata": {},
   "outputs": [],
   "source": [
    "import sklearn"
   ]
  },
  {
   "cell_type": "code",
   "execution_count": 460,
   "metadata": {},
   "outputs": [],
   "source": [
    "from sklearn.model_selection import train_test_split"
   ]
  },
  {
   "cell_type": "code",
   "execution_count": 461,
   "metadata": {},
   "outputs": [],
   "source": [
    "X=df1.drop('Survived',axis=1)\n",
    "y=df1.Survived"
   ]
  },
  {
   "cell_type": "code",
   "execution_count": 462,
   "metadata": {},
   "outputs": [],
   "source": [
    " X_train, X_test, y_train, y_test = train_test_split(X, y, test_size=0.33, random_state=42)"
   ]
  },
  {
   "cell_type": "code",
   "execution_count": 463,
   "metadata": {},
   "outputs": [],
   "source": [
    "from lazypredict.Supervised import LazyClassifier"
   ]
  },
  {
   "cell_type": "code",
   "execution_count": 464,
   "metadata": {},
   "outputs": [],
   "source": [
    "lz=LazyClassifier(verbose=1,ignore_warnings=True)"
   ]
  },
  {
   "cell_type": "code",
   "execution_count": 465,
   "metadata": {},
   "outputs": [
    {
     "name": "stderr",
     "output_type": "stream",
     "text": [
      " 14%|███████████▍                                                                       | 4/29 [00:00<00:01, 14.21it/s]"
     ]
    },
    {
     "name": "stdout",
     "output_type": "stream",
     "text": [
      "{'Model': 'AdaBoostClassifier', 'Accuracy': 0.8197278911564626, 'Balanced Accuracy': 0.8139328063241107, 'ROC AUC': 0.8139328063241107, 'F1 Score': 0.8207596265347877, 'Time taken': 0.09011292457580566}\n",
      "{'Model': 'BaggingClassifier', 'Accuracy': 0.7857142857142857, 'Balanced Accuracy': 0.7721343873517786, 'ROC AUC': 0.7721343873517786, 'F1 Score': 0.7859071526325894, 'Time taken': 0.02992391586303711}\n",
      "{'Model': 'BernoulliNB', 'Accuracy': 0.7789115646258503, 'Balanced Accuracy': 0.7758399209486166, 'ROC AUC': 0.7758399209486166, 'F1 Score': 0.7810311696461212, 'Time taken': 0.012931585311889648}\n",
      "{'Model': 'CalibratedClassifierCV', 'Accuracy': 0.826530612244898, 'Balanced Accuracy': 0.8157114624505929, 'ROC AUC': 0.815711462450593, 'F1 Score': 0.8266867426073342, 'Time taken': 0.14125466346740723}\n"
     ]
    },
    {
     "name": "stderr",
     "output_type": "stream",
     "text": [
      "\r",
      " 31%|█████████████████████████▊                                                         | 9/29 [00:00<00:00, 22.51it/s]"
     ]
    },
    {
     "name": "stdout",
     "output_type": "stream",
     "text": [
      "{'Model': 'DecisionTreeClassifier', 'Accuracy': 0.7789115646258503, 'Balanced Accuracy': 0.7648715415019762, 'ROC AUC': 0.7648715415019762, 'F1 Score': 0.7791105543034653, 'Time taken': 0.014021158218383789}\n",
      "{'Model': 'DummyClassifier', 'Accuracy': 0.5578231292517006, 'Balanced Accuracy': 0.533399209486166, 'ROC AUC': 0.533399209486166, 'F1 Score': 0.5600282845255641, 'Time taken': 0.010951519012451172}\n",
      "{'Model': 'ExtraTreeClassifier', 'Accuracy': 0.7346938775510204, 'Balanced Accuracy': 0.7295454545454545, 'ROC AUC': 0.7295454545454545, 'F1 Score': 0.737384219224413, 'Time taken': 0.011962652206420898}\n",
      "{'Model': 'ExtraTreesClassifier', 'Accuracy': 0.7755102040816326, 'Balanced Accuracy': 0.7639822134387352, 'ROC AUC': 0.7639822134387351, 'F1 Score': 0.7762811168423414, 'Time taken': 0.10774016380310059}\n",
      "{'Model': 'GaussianNB', 'Accuracy': 0.7925170068027211, 'Balanced Accuracy': 0.7775691699604743, 'ROC AUC': 0.7775691699604743, 'F1 Score': 0.7923244436060053, 'Time taken': 0.01331949234008789}\n",
      "{'Model': 'KNeighborsClassifier', 'Accuracy': 0.8129251700680272, 'Balanced Accuracy': 0.795701581027668, 'ROC AUC': 0.795701581027668, 'F1 Score': 0.8120037340954213, 'Time taken': 0.03793454170227051}\n",
      "{'Model': 'LabelPropagation', 'Accuracy': 0.782312925170068, 'Balanced Accuracy': 0.7657608695652174, 'ROC AUC': 0.7657608695652174, 'F1 Score': 0.7819027040521143, 'Time taken': 0.0318903923034668}"
     ]
    },
    {
     "name": "stderr",
     "output_type": "stream",
     "text": [
      " 62%|██████████████████████████████████████████████████▉                               | 18/29 [00:00<00:00, 31.43it/s]"
     ]
    },
    {
     "name": "stdout",
     "output_type": "stream",
     "text": [
      "\n",
      "{'Model': 'LabelSpreading', 'Accuracy': 0.7857142857142857, 'Balanced Accuracy': 0.7684782608695653, 'ROC AUC': 0.7684782608695652, 'F1 Score': 0.7850994323474977, 'Time taken': 0.0418696403503418}\n",
      "{'Model': 'LinearDiscriminantAnalysis', 'Accuracy': 0.8299319727891157, 'Balanced Accuracy': 0.8202569169960474, 'ROC AUC': 0.8202569169960474, 'F1 Score': 0.830233378242746, 'Time taken': 0.013069391250610352}\n",
      "{'Model': 'LinearSVC', 'Accuracy': 0.826530612244898, 'Balanced Accuracy': 0.8157114624505929, 'ROC AUC': 0.815711462450593, 'F1 Score': 0.8266867426073342, 'Time taken': 0.043988943099975586}\n",
      "{'Model': 'LogisticRegression', 'Accuracy': 0.8299319727891157, 'Balanced Accuracy': 0.8220849802371542, 'ROC AUC': 0.8220849802371543, 'F1 Score': 0.8305159976078343, 'Time taken': 0.013948678970336914}\n",
      "{'Model': 'NearestCentroid', 'Accuracy': 0.7925170068027211, 'Balanced Accuracy': 0.7848814229249012, 'ROC AUC': 0.7848814229249012, 'F1 Score': 0.7937044758230577, 'Time taken': 0.009074687957763672}\n",
      "{'Model': 'NuSVC', 'Accuracy': 0.826530612244898, 'Balanced Accuracy': 0.8102272727272728, 'ROC AUC': 0.8102272727272728, 'F1 Score': 0.8256761897975725, 'Time taken': 0.0312504768371582}\n",
      "{'Model': 'PassiveAggressiveClassifier', 'Accuracy': 0.8027210884353742, 'Balanced Accuracy': 0.8003458498023716, 'ROC AUC': 0.8003458498023716, 'F1 Score': 0.8044982037758924, 'Time taken': 0.0180966854095459}\n",
      "{'Model': 'Perceptron', 'Accuracy': 0.8129251700680272, 'Balanced Accuracy': 0.8139822134387352, 'ROC AUC': 0.8139822134387351, 'F1 Score': 0.8149209656739558, 'Time taken': 0.009342670440673828}\n"
     ]
    },
    {
     "name": "stderr",
     "output_type": "stream",
     "text": [
      "\r",
      " 76%|██████████████████████████████████████████████████████████████▏                   | 22/29 [00:00<00:00, 28.54it/s]"
     ]
    },
    {
     "name": "stdout",
     "output_type": "stream",
     "text": [
      "{'Model': 'QuadraticDiscriminantAnalysis', 'Accuracy': 0.8299319727891157, 'Balanced Accuracy': 0.8166007905138339, 'ROC AUC': 0.816600790513834, 'F1 Score': 0.8296114875407143, 'Time taken': 0.013719558715820312}\n",
      "{'Model': 'RandomForestClassifier', 'Accuracy': 0.7891156462585034, 'Balanced Accuracy': 0.7766798418972332, 'ROC AUC': 0.7766798418972332, 'F1 Score': 0.7894893890210051, 'Time taken': 0.12474489212036133}\n",
      "{'Model': 'RidgeClassifier', 'Accuracy': 0.826530612244898, 'Balanced Accuracy': 0.8157114624505929, 'ROC AUC': 0.815711462450593, 'F1 Score': 0.8266867426073342, 'Time taken': 0.018583059310913086}\n",
      "{'Model': 'RidgeClassifierCV', 'Accuracy': 0.8231292517006803, 'Balanced Accuracy': 0.8111660079051384, 'ROC AUC': 0.8111660079051384, 'F1 Score': 0.8231292517006804, 'Time taken': 0.024584531784057617}\n",
      "{'Model': 'SGDClassifier', 'Accuracy': 0.8095238095238095, 'Balanced Accuracy': 0.7801877470355731, 'ROC AUC': 0.7801877470355731, 'F1 Score': 0.805478401282023, 'Time taken': 0.014952421188354492}\n"
     ]
    },
    {
     "name": "stderr",
     "output_type": "stream",
     "text": [
      "100%|██████████████████████████████████████████████████████████████████████████████████| 29/29 [00:01<00:00, 27.66it/s]"
     ]
    },
    {
     "name": "stdout",
     "output_type": "stream",
     "text": [
      "{'Model': 'SVC', 'Accuracy': 0.8299319727891157, 'Balanced Accuracy': 0.8019762845849803, 'ROC AUC': 0.8019762845849804, 'F1 Score': 0.8263200011446635, 'Time taken': 0.028922557830810547}\n",
      "{'Model': 'XGBClassifier', 'Accuracy': 0.7993197278911565, 'Balanced Accuracy': 0.7848320158102766, 'ROC AUC': 0.7848320158102766, 'F1 Score': 0.799133478241874, 'Time taken': 0.05471181869506836}\n",
      "{'Model': 'LGBMClassifier', 'Accuracy': 0.8061224489795918, 'Balanced Accuracy': 0.7902667984189724, 'ROC AUC': 0.7902667984189724, 'F1 Score': 0.8055661530763075, 'Time taken': 0.06159329414367676}\n"
     ]
    },
    {
     "name": "stderr",
     "output_type": "stream",
     "text": [
      "\n"
     ]
    }
   ],
   "source": [
    "models,predictions=lz.fit(X_train, X_test, y_train, y_test)"
   ]
  },
  {
   "cell_type": "code",
   "execution_count": 466,
   "metadata": {},
   "outputs": [
    {
     "name": "stdout",
     "output_type": "stream",
     "text": [
      "                               Accuracy  Balanced Accuracy  ROC AUC  F1 Score  \\\n",
      "Model                                                                           \n",
      "LogisticRegression                 0.83               0.82     0.82      0.83   \n",
      "LinearDiscriminantAnalysis         0.83               0.82     0.82      0.83   \n",
      "QuadraticDiscriminantAnalysis      0.83               0.82     0.82      0.83   \n",
      "LinearSVC                          0.83               0.82     0.82      0.83   \n",
      "RidgeClassifier                    0.83               0.82     0.82      0.83   \n",
      "CalibratedClassifierCV             0.83               0.82     0.82      0.83   \n",
      "Perceptron                         0.81               0.81     0.81      0.81   \n",
      "AdaBoostClassifier                 0.82               0.81     0.81      0.82   \n",
      "RidgeClassifierCV                  0.82               0.81     0.81      0.82   \n",
      "NuSVC                              0.83               0.81     0.81      0.83   \n",
      "SVC                                0.83               0.80     0.80      0.83   \n",
      "PassiveAggressiveClassifier        0.80               0.80     0.80      0.80   \n",
      "KNeighborsClassifier               0.81               0.80     0.80      0.81   \n",
      "LGBMClassifier                     0.81               0.79     0.79      0.81   \n",
      "NearestCentroid                    0.79               0.78     0.78      0.79   \n",
      "XGBClassifier                      0.80               0.78     0.78      0.80   \n",
      "SGDClassifier                      0.81               0.78     0.78      0.81   \n",
      "GaussianNB                         0.79               0.78     0.78      0.79   \n",
      "RandomForestClassifier             0.79               0.78     0.78      0.79   \n",
      "BernoulliNB                        0.78               0.78     0.78      0.78   \n",
      "BaggingClassifier                  0.79               0.77     0.77      0.79   \n",
      "LabelSpreading                     0.79               0.77     0.77      0.79   \n",
      "LabelPropagation                   0.78               0.77     0.77      0.78   \n",
      "DecisionTreeClassifier             0.78               0.76     0.76      0.78   \n",
      "ExtraTreesClassifier               0.78               0.76     0.76      0.78   \n",
      "ExtraTreeClassifier                0.73               0.73     0.73      0.74   \n",
      "DummyClassifier                    0.56               0.53     0.53      0.56   \n",
      "\n",
      "                               Time Taken  \n",
      "Model                                      \n",
      "LogisticRegression                   0.01  \n",
      "LinearDiscriminantAnalysis           0.01  \n",
      "QuadraticDiscriminantAnalysis        0.01  \n",
      "LinearSVC                            0.04  \n",
      "RidgeClassifier                      0.02  \n",
      "CalibratedClassifierCV               0.14  \n",
      "Perceptron                           0.01  \n",
      "AdaBoostClassifier                   0.09  \n",
      "RidgeClassifierCV                    0.02  \n",
      "NuSVC                                0.03  \n",
      "SVC                                  0.03  \n",
      "PassiveAggressiveClassifier          0.02  \n",
      "KNeighborsClassifier                 0.04  \n",
      "LGBMClassifier                       0.06  \n",
      "NearestCentroid                      0.01  \n",
      "XGBClassifier                        0.05  \n",
      "SGDClassifier                        0.01  \n",
      "GaussianNB                           0.01  \n",
      "RandomForestClassifier               0.12  \n",
      "BernoulliNB                          0.01  \n",
      "BaggingClassifier                    0.03  \n",
      "LabelSpreading                       0.04  \n",
      "LabelPropagation                     0.03  \n",
      "DecisionTreeClassifier               0.01  \n",
      "ExtraTreesClassifier                 0.11  \n",
      "ExtraTreeClassifier                  0.01  \n",
      "DummyClassifier                      0.01  \n"
     ]
    }
   ],
   "source": [
    "print(models)"
   ]
  },
  {
   "cell_type": "code",
   "execution_count": 467,
   "metadata": {},
   "outputs": [],
   "source": [
    "from sklearn.model_selection import GridSearchCV\n",
    "from sklearn.ensemble import AdaBoostClassifier\n",
    "model = AdaBoostClassifier()\n",
    "grid = dict()\n",
    "grid['n_estimators'] = [10, 50, 100, 500]\n",
    "grid['learning_rate'] = [0.0001, 0.001, 0.01, 0.1, 1.0]\n"
   ]
  },
  {
   "cell_type": "code",
   "execution_count": 486,
   "metadata": {},
   "outputs": [],
   "source": [
    "search=GridSearchCV(AdaBoostClassifier(),param_grid=grid,scoring='accuracy',n_jobs=-1)"
   ]
  },
  {
   "cell_type": "code",
   "execution_count": 487,
   "metadata": {},
   "outputs": [
    {
     "data": {
      "text/plain": [
       "GridSearchCV(estimator=AdaBoostClassifier(), n_jobs=-1,\n",
       "             param_grid={'learning_rate': [0.0001, 0.001, 0.01, 0.1, 1.0],\n",
       "                         'n_estimators': [10, 50, 100, 500]},\n",
       "             scoring='accuracy')"
      ]
     },
     "execution_count": 487,
     "metadata": {},
     "output_type": "execute_result"
    }
   ],
   "source": [
    "search.fit(X_train,y_train)"
   ]
  },
  {
   "cell_type": "code",
   "execution_count": 488,
   "metadata": {},
   "outputs": [
    {
     "data": {
      "text/plain": [
       "{'learning_rate': 0.01, 'n_estimators': 500}"
      ]
     },
     "execution_count": 488,
     "metadata": {},
     "output_type": "execute_result"
    }
   ],
   "source": [
    "search.best_params_"
   ]
  },
  {
   "cell_type": "code",
   "execution_count": 489,
   "metadata": {},
   "outputs": [
    {
     "data": {
      "text/plain": [
       "0.8312956262299244"
      ]
     },
     "execution_count": 489,
     "metadata": {},
     "output_type": "execute_result"
    }
   ],
   "source": [
    "search.best_score_"
   ]
  },
  {
   "cell_type": "code",
   "execution_count": 492,
   "metadata": {},
   "outputs": [],
   "source": [
    "adb=AdaBoostClassifier(learning_rate= 0.01, n_estimators= 500)\n"
   ]
  },
  {
   "cell_type": "code",
   "execution_count": 497,
   "metadata": {},
   "outputs": [],
   "source": [
    "adb.fit(X_train,y_train)\n",
    "pre1=adb.predict(X_test)"
   ]
  },
  {
   "cell_type": "code",
   "execution_count": 498,
   "metadata": {},
   "outputs": [],
   "source": [
    "titanic_rfc_submisssion = pd.DataFrame({\n",
    "        \"PassengerId\": df_test[\"PassengerId\"],\n",
    "        \"Survived\": pre1})\n",
    "titanic_rfc_submisssion.to_csv('titanic_rfc_submisssion5',index=False)"
   ]
  },
  {
   "cell_type": "code",
   "execution_count": 472,
   "metadata": {},
   "outputs": [],
   "source": [
    "pre=search.predict(X_test)"
   ]
  },
  {
   "cell_type": "code",
   "execution_count": 473,
   "metadata": {},
   "outputs": [],
   "source": [
    "from sklearn.metrics import classification_report"
   ]
  },
  {
   "cell_type": "code",
   "execution_count": 474,
   "metadata": {},
   "outputs": [
    {
     "name": "stdout",
     "output_type": "stream",
     "text": [
      "              precision    recall  f1-score   support\n",
      "\n",
      "           0       0.85      0.86      0.86       183\n",
      "           1       0.76      0.76      0.76       111\n",
      "\n",
      "    accuracy                           0.82       294\n",
      "   macro avg       0.81      0.81      0.81       294\n",
      "weighted avg       0.82      0.82      0.82       294\n",
      "\n"
     ]
    }
   ],
   "source": [
    "print(classification_report(pre,y_test))"
   ]
  },
  {
   "cell_type": "code",
   "execution_count": 501,
   "metadata": {},
   "outputs": [],
   "source": [
    "import tensorflow\n",
    "from tensorflow import keras"
   ]
  },
  {
   "cell_type": "code",
   "execution_count": 502,
   "metadata": {},
   "outputs": [],
   "source": [
    "from keras.layers import Dropout,Dense\n",
    "from keras.models import Sequential\n",
    "import kerastuner\n",
    "from keras.callbacks import EarlyStopping,ReduceLROnPlateau"
   ]
  },
  {
   "cell_type": "code",
   "execution_count": 559,
   "metadata": {},
   "outputs": [],
   "source": [
    "def build_model_1(hp):\n",
    "    model = keras.Sequential()\n",
    "    model.add(keras.layers.Dense(\n",
    "      hp.Choice('units1', [10,30,50,100,500,1000]),\n",
    "      activation='relu'))\n",
    "    model.add(Dropout(0.3))\n",
    "    model.add(keras.layers.Dense(\n",
    "      hp.Choice('units2', [10,30,50,100,500,1000]),\n",
    "      activation='relu'))\n",
    "    model.add(Dropout(0.3))\n",
    "    model.add(keras.layers.Dense(1, activation='sigmoid'))\n",
    "    model.compile(optimizer='rmsprop',loss='binary_crossentropy',metrics=['accuracy'])\n",
    "    return model"
   ]
  },
  {
   "cell_type": "code",
   "execution_count": 528,
   "metadata": {},
   "outputs": [],
   "source": [
    "from kerastuner import RandomSearch"
   ]
  },
  {
   "cell_type": "raw",
   "metadata": {},
   "source": []
  },
  {
   "cell_type": "code",
   "execution_count": 560,
   "metadata": {},
   "outputs": [],
   "source": [
    "rc=RandomSearch(build_model_1,objective='val_accuracy',max_trials=20,overwrite=True)"
   ]
  },
  {
   "cell_type": "code",
   "execution_count": 561,
   "metadata": {},
   "outputs": [
    {
     "name": "stdout",
     "output_type": "stream",
     "text": [
      "Trial 20 Complete [00h 00m 03s]\n",
      "val_accuracy: 0.7174887657165527\n",
      "\n",
      "Best val_accuracy So Far: 0.7533632516860962\n",
      "Total elapsed time: 00h 01m 16s\n",
      "INFO:tensorflow:Oracle triggered exit\n"
     ]
    }
   ],
   "source": [
    "rc.search(X_train,y_train,epochs=10,validation_split=0.25)"
   ]
  },
  {
   "cell_type": "code",
   "execution_count": 539,
   "metadata": {},
   "outputs": [],
   "source": [
    "model=rc.get_best_models(num_models=1)[0]"
   ]
  },
  {
   "cell_type": "code",
   "execution_count": 540,
   "metadata": {},
   "outputs": [],
   "source": [
    "es=EarlyStopping(monitor='val_accuracy',patience=10,verbose=1)\n",
    "lrr=ReduceLROnPlateau(monitor='val_accuracy',patience=3,factor=0.5,min_lr=0.00001,verbose=1)"
   ]
  },
  {
   "cell_type": "code",
   "execution_count": 541,
   "metadata": {},
   "outputs": [
    {
     "name": "stdout",
     "output_type": "stream",
     "text": [
      "Epoch 11/300\n",
      "23/23 [==============================] - 2s 31ms/step - loss: 0.5744 - accuracy: 0.7352 - val_loss: 1.1438 - val_accuracy: 0.6461\n",
      "Epoch 12/300\n",
      "23/23 [==============================] - 0s 19ms/step - loss: 0.6668 - accuracy: 0.6784 - val_loss: 0.5945 - val_accuracy: 0.7022\n",
      "Epoch 13/300\n",
      "23/23 [==============================] - 0s 19ms/step - loss: 0.6164 - accuracy: 0.7364 - val_loss: 0.4272 - val_accuracy: 0.8146\n",
      "Epoch 14/300\n",
      "23/23 [==============================] - 0s 19ms/step - loss: 0.6329 - accuracy: 0.7298 - val_loss: 0.4900 - val_accuracy: 0.7865\n",
      "Epoch 15/300\n",
      "23/23 [==============================] - 0s 18ms/step - loss: 0.5766 - accuracy: 0.7515 - val_loss: 0.6927 - val_accuracy: 0.7697\n",
      "Epoch 16/300\n",
      "23/23 [==============================] - 0s 18ms/step - loss: 0.6077 - accuracy: 0.7371 - val_loss: 0.7696 - val_accuracy: 0.5618\n",
      "\n",
      "Epoch 00016: ReduceLROnPlateau reducing learning rate to 0.0005000000237487257.\n",
      "Epoch 17/300\n",
      "23/23 [==============================] - 0s 19ms/step - loss: 0.6120 - accuracy: 0.7182 - val_loss: 0.3927 - val_accuracy: 0.8371\n",
      "Epoch 18/300\n",
      "23/23 [==============================] - 0s 19ms/step - loss: 0.5209 - accuracy: 0.7765 - val_loss: 0.4668 - val_accuracy: 0.8146\n",
      "Epoch 19/300\n",
      "23/23 [==============================] - 0s 19ms/step - loss: 0.5262 - accuracy: 0.7558 - val_loss: 0.3640 - val_accuracy: 0.8483\n",
      "Epoch 20/300\n",
      "23/23 [==============================] - 0s 19ms/step - loss: 0.4900 - accuracy: 0.7996 - val_loss: 0.3561 - val_accuracy: 0.8539\n",
      "Epoch 21/300\n",
      "23/23 [==============================] - 0s 20ms/step - loss: 0.5157 - accuracy: 0.7713 - val_loss: 0.4368 - val_accuracy: 0.7978\n",
      "Epoch 22/300\n",
      "23/23 [==============================] - 0s 19ms/step - loss: 0.4418 - accuracy: 0.8305 - val_loss: 0.3533 - val_accuracy: 0.8371\n",
      "Epoch 23/300\n",
      "23/23 [==============================] - 0s 20ms/step - loss: 0.4813 - accuracy: 0.7810 - val_loss: 0.4781 - val_accuracy: 0.8146\n",
      "\n",
      "Epoch 00023: ReduceLROnPlateau reducing learning rate to 0.0002500000118743628.\n",
      "Epoch 24/300\n",
      "23/23 [==============================] - 0s 20ms/step - loss: 0.4905 - accuracy: 0.7870 - val_loss: 0.3518 - val_accuracy: 0.8483\n",
      "Epoch 25/300\n",
      "23/23 [==============================] - 0s 19ms/step - loss: 0.4448 - accuracy: 0.8138 - val_loss: 0.3875 - val_accuracy: 0.8258\n",
      "Epoch 26/300\n",
      "23/23 [==============================] - 0s 18ms/step - loss: 0.4328 - accuracy: 0.8200 - val_loss: 0.3870 - val_accuracy: 0.8371\n",
      "\n",
      "Epoch 00026: ReduceLROnPlateau reducing learning rate to 0.0001250000059371814.\n",
      "Epoch 27/300\n",
      "23/23 [==============================] - 0s 19ms/step - loss: 0.4643 - accuracy: 0.7834 - val_loss: 0.3777 - val_accuracy: 0.8371\n",
      "Epoch 28/300\n",
      "23/23 [==============================] - 0s 18ms/step - loss: 0.4487 - accuracy: 0.8175 - val_loss: 0.3548 - val_accuracy: 0.8539\n",
      "Epoch 29/300\n",
      "23/23 [==============================] - 0s 19ms/step - loss: 0.4525 - accuracy: 0.7994 - val_loss: 0.3749 - val_accuracy: 0.8483\n",
      "\n",
      "Epoch 00029: ReduceLROnPlateau reducing learning rate to 6.25000029685907e-05.\n",
      "Epoch 30/300\n",
      "23/23 [==============================] - 0s 18ms/step - loss: 0.4447 - accuracy: 0.8004 - val_loss: 0.3604 - val_accuracy: 0.8483\n",
      "Epoch 31/300\n",
      "23/23 [==============================] - 0s 19ms/step - loss: 0.4577 - accuracy: 0.8008 - val_loss: 0.3584 - val_accuracy: 0.8427\n",
      "Epoch 32/300\n",
      "23/23 [==============================] - 0s 19ms/step - loss: 0.4539 - accuracy: 0.7911 - val_loss: 0.3580 - val_accuracy: 0.8427\n",
      "\n",
      "Epoch 00032: ReduceLROnPlateau reducing learning rate to 3.125000148429535e-05.\n",
      "Epoch 33/300\n",
      "23/23 [==============================] - 0s 19ms/step - loss: 0.4458 - accuracy: 0.8000 - val_loss: 0.3656 - val_accuracy: 0.8427\n",
      "Epoch 34/300\n",
      "23/23 [==============================] - 0s 19ms/step - loss: 0.4299 - accuracy: 0.8005 - val_loss: 0.3556 - val_accuracy: 0.8483\n",
      "Epoch 35/300\n",
      "23/23 [==============================] - 0s 18ms/step - loss: 0.4135 - accuracy: 0.8103 - val_loss: 0.3647 - val_accuracy: 0.8483\n",
      "\n",
      "Epoch 00035: ReduceLROnPlateau reducing learning rate to 1.5625000742147677e-05.\n",
      "Epoch 36/300\n",
      "23/23 [==============================] - 0s 19ms/step - loss: 0.4163 - accuracy: 0.8108 - val_loss: 0.3633 - val_accuracy: 0.8427\n",
      "Epoch 37/300\n",
      "23/23 [==============================] - 0s 19ms/step - loss: 0.4607 - accuracy: 0.8138 - val_loss: 0.3683 - val_accuracy: 0.8427\n",
      "Epoch 38/300\n",
      "23/23 [==============================] - 0s 19ms/step - loss: 0.4663 - accuracy: 0.7880 - val_loss: 0.3618 - val_accuracy: 0.8427\n",
      "\n",
      "Epoch 00038: ReduceLROnPlateau reducing learning rate to 1e-05.\n",
      "Epoch 39/300\n",
      "23/23 [==============================] - 0s 19ms/step - loss: 0.4189 - accuracy: 0.8109 - val_loss: 0.3609 - val_accuracy: 0.8483\n",
      "Epoch 40/300\n",
      "23/23 [==============================] - 0s 18ms/step - loss: 0.4245 - accuracy: 0.8074 - val_loss: 0.3607 - val_accuracy: 0.8427\n",
      "Epoch 41/300\n",
      "23/23 [==============================] - 0s 20ms/step - loss: 0.4249 - accuracy: 0.8146 - val_loss: 0.3635 - val_accuracy: 0.8427\n",
      "Epoch 42/300\n",
      "23/23 [==============================] - 0s 19ms/step - loss: 0.4214 - accuracy: 0.8104 - val_loss: 0.3633 - val_accuracy: 0.8427\n",
      "Epoch 43/300\n",
      "23/23 [==============================] - 0s 20ms/step - loss: 0.4130 - accuracy: 0.8315 - val_loss: 0.3660 - val_accuracy: 0.8427\n",
      "Epoch 44/300\n",
      "23/23 [==============================] - 0s 19ms/step - loss: 0.4292 - accuracy: 0.8107 - val_loss: 0.3613 - val_accuracy: 0.8483\n",
      "Epoch 45/300\n",
      "23/23 [==============================] - 0s 20ms/step - loss: 0.4608 - accuracy: 0.8032 - val_loss: 0.3643 - val_accuracy: 0.8483\n",
      "Epoch 46/300\n",
      "23/23 [==============================] - 0s 20ms/step - loss: 0.4074 - accuracy: 0.8275 - val_loss: 0.3594 - val_accuracy: 0.8483\n",
      "Epoch 47/300\n",
      "23/23 [==============================] - 0s 20ms/step - loss: 0.4592 - accuracy: 0.7971 - val_loss: 0.3607 - val_accuracy: 0.8483\n",
      "Epoch 48/300\n",
      "23/23 [==============================] - 0s 19ms/step - loss: 0.4686 - accuracy: 0.7976 - val_loss: 0.3598 - val_accuracy: 0.8483\n",
      "Epoch 49/300\n",
      "23/23 [==============================] - 0s 19ms/step - loss: 0.4220 - accuracy: 0.8212 - val_loss: 0.3609 - val_accuracy: 0.8483\n",
      "Epoch 50/300\n",
      "23/23 [==============================] - 0s 19ms/step - loss: 0.5047 - accuracy: 0.7846 - val_loss: 0.3625 - val_accuracy: 0.8483\n",
      "Epoch 51/300\n",
      "23/23 [==============================] - 0s 20ms/step - loss: 0.4326 - accuracy: 0.8066 - val_loss: 0.3662 - val_accuracy: 0.8427\n",
      "Epoch 52/300\n",
      "23/23 [==============================] - 0s 19ms/step - loss: 0.4544 - accuracy: 0.7929 - val_loss: 0.3644 - val_accuracy: 0.8483\n",
      "Epoch 53/300\n",
      "23/23 [==============================] - 0s 19ms/step - loss: 0.4251 - accuracy: 0.8142 - val_loss: 0.3617 - val_accuracy: 0.8483\n",
      "Epoch 54/300\n",
      "23/23 [==============================] - 0s 20ms/step - loss: 0.4578 - accuracy: 0.8163 - val_loss: 0.3652 - val_accuracy: 0.8427\n",
      "Epoch 55/300\n",
      "23/23 [==============================] - 0s 19ms/step - loss: 0.4680 - accuracy: 0.8026 - val_loss: 0.3638 - val_accuracy: 0.8483\n",
      "Epoch 56/300\n",
      "23/23 [==============================] - 0s 20ms/step - loss: 0.3999 - accuracy: 0.8240 - val_loss: 0.3643 - val_accuracy: 0.8483\n",
      "Epoch 57/300\n",
      "23/23 [==============================] - 0s 20ms/step - loss: 0.4199 - accuracy: 0.8239 - val_loss: 0.3646 - val_accuracy: 0.8483\n",
      "Epoch 58/300\n",
      "23/23 [==============================] - 0s 20ms/step - loss: 0.4066 - accuracy: 0.8101 - val_loss: 0.3635 - val_accuracy: 0.8483\n",
      "Epoch 59/300\n",
      "23/23 [==============================] - 0s 19ms/step - loss: 0.4404 - accuracy: 0.7965 - val_loss: 0.3615 - val_accuracy: 0.8483\n",
      "Epoch 60/300\n",
      "23/23 [==============================] - 0s 19ms/step - loss: 0.4357 - accuracy: 0.8038 - val_loss: 0.3669 - val_accuracy: 0.8371\n",
      "Epoch 61/300\n",
      "23/23 [==============================] - 0s 19ms/step - loss: 0.4516 - accuracy: 0.8123 - val_loss: 0.3676 - val_accuracy: 0.8315\n",
      "Epoch 62/300\n",
      "23/23 [==============================] - 0s 20ms/step - loss: 0.4163 - accuracy: 0.8257 - val_loss: 0.3686 - val_accuracy: 0.8371\n",
      "Epoch 63/300\n",
      "23/23 [==============================] - 0s 20ms/step - loss: 0.4621 - accuracy: 0.7806 - val_loss: 0.3685 - val_accuracy: 0.8315\n",
      "Epoch 64/300\n"
     ]
    },
    {
     "name": "stdout",
     "output_type": "stream",
     "text": [
      "23/23 [==============================] - 0s 18ms/step - loss: 0.4463 - accuracy: 0.7947 - val_loss: 0.3646 - val_accuracy: 0.8427\n",
      "Epoch 65/300\n",
      "23/23 [==============================] - 0s 19ms/step - loss: 0.4312 - accuracy: 0.8026 - val_loss: 0.3672 - val_accuracy: 0.8427\n",
      "Epoch 66/300\n",
      "23/23 [==============================] - 0s 19ms/step - loss: 0.4333 - accuracy: 0.7958 - val_loss: 0.3700 - val_accuracy: 0.8315\n",
      "Epoch 67/300\n",
      "23/23 [==============================] - 0s 19ms/step - loss: 0.4360 - accuracy: 0.8045 - val_loss: 0.3641 - val_accuracy: 0.8427\n",
      "Epoch 68/300\n",
      "23/23 [==============================] - 0s 20ms/step - loss: 0.4663 - accuracy: 0.7824 - val_loss: 0.3636 - val_accuracy: 0.8427\n",
      "Epoch 69/300\n",
      "23/23 [==============================] - 0s 18ms/step - loss: 0.4477 - accuracy: 0.8092 - val_loss: 0.3676 - val_accuracy: 0.8371\n",
      "Epoch 70/300\n",
      "23/23 [==============================] - 0s 19ms/step - loss: 0.4645 - accuracy: 0.7977 - val_loss: 0.3653 - val_accuracy: 0.8427\n",
      "Epoch 71/300\n",
      "23/23 [==============================] - 0s 18ms/step - loss: 0.4249 - accuracy: 0.8089 - val_loss: 0.3639 - val_accuracy: 0.8427\n",
      "Epoch 72/300\n",
      "23/23 [==============================] - 0s 20ms/step - loss: 0.4426 - accuracy: 0.7968 - val_loss: 0.3611 - val_accuracy: 0.8483\n",
      "Epoch 73/300\n",
      "23/23 [==============================] - 0s 19ms/step - loss: 0.4241 - accuracy: 0.8190 - val_loss: 0.3635 - val_accuracy: 0.8483\n",
      "Epoch 74/300\n",
      "23/23 [==============================] - 0s 20ms/step - loss: 0.4493 - accuracy: 0.7987 - val_loss: 0.3611 - val_accuracy: 0.8483\n",
      "Epoch 75/300\n",
      "23/23 [==============================] - 0s 19ms/step - loss: 0.4596 - accuracy: 0.8056 - val_loss: 0.3592 - val_accuracy: 0.8483\n",
      "Epoch 76/300\n",
      "23/23 [==============================] - 0s 19ms/step - loss: 0.4209 - accuracy: 0.8019 - val_loss: 0.3584 - val_accuracy: 0.8483\n",
      "Epoch 77/300\n",
      "23/23 [==============================] - 0s 19ms/step - loss: 0.4370 - accuracy: 0.7983 - val_loss: 0.3583 - val_accuracy: 0.8483\n",
      "Epoch 78/300\n",
      "23/23 [==============================] - 0s 19ms/step - loss: 0.4299 - accuracy: 0.8062 - val_loss: 0.3611 - val_accuracy: 0.8539\n",
      "Epoch 79/300\n",
      "23/23 [==============================] - 0s 19ms/step - loss: 0.4195 - accuracy: 0.8226 - val_loss: 0.3591 - val_accuracy: 0.8483\n",
      "Epoch 80/300\n",
      "23/23 [==============================] - 0s 19ms/step - loss: 0.4197 - accuracy: 0.8175 - val_loss: 0.3609 - val_accuracy: 0.8539\n",
      "Epoch 81/300\n",
      "23/23 [==============================] - 0s 20ms/step - loss: 0.4601 - accuracy: 0.7854 - val_loss: 0.3601 - val_accuracy: 0.8483\n",
      "Epoch 82/300\n",
      "23/23 [==============================] - 0s 19ms/step - loss: 0.4504 - accuracy: 0.7870 - val_loss: 0.3600 - val_accuracy: 0.8483\n",
      "Epoch 83/300\n",
      "23/23 [==============================] - 0s 20ms/step - loss: 0.4402 - accuracy: 0.8182 - val_loss: 0.3599 - val_accuracy: 0.8483\n",
      "Epoch 84/300\n",
      "23/23 [==============================] - 0s 19ms/step - loss: 0.4415 - accuracy: 0.7929 - val_loss: 0.3614 - val_accuracy: 0.8483\n",
      "Epoch 85/300\n",
      "23/23 [==============================] - 0s 19ms/step - loss: 0.4081 - accuracy: 0.8379 - val_loss: 0.3624 - val_accuracy: 0.8483\n",
      "Epoch 86/300\n",
      "23/23 [==============================] - 0s 19ms/step - loss: 0.4389 - accuracy: 0.8098 - val_loss: 0.3682 - val_accuracy: 0.8371\n",
      "Epoch 87/300\n",
      "23/23 [==============================] - 0s 20ms/step - loss: 0.4365 - accuracy: 0.8052 - val_loss: 0.3644 - val_accuracy: 0.8483\n",
      "Epoch 88/300\n",
      "23/23 [==============================] - 0s 19ms/step - loss: 0.3973 - accuracy: 0.8102 - val_loss: 0.3651 - val_accuracy: 0.8427\n",
      "Epoch 89/300\n",
      "23/23 [==============================] - 0s 19ms/step - loss: 0.4363 - accuracy: 0.8009 - val_loss: 0.3670 - val_accuracy: 0.8427\n",
      "Epoch 90/300\n",
      "23/23 [==============================] - 0s 19ms/step - loss: 0.4287 - accuracy: 0.8149 - val_loss: 0.3696 - val_accuracy: 0.8371\n",
      "Epoch 91/300\n",
      "23/23 [==============================] - 0s 20ms/step - loss: 0.4482 - accuracy: 0.8306 - val_loss: 0.3681 - val_accuracy: 0.8371\n",
      "Epoch 92/300\n",
      "23/23 [==============================] - 0s 19ms/step - loss: 0.4325 - accuracy: 0.8013 - val_loss: 0.3683 - val_accuracy: 0.8371\n",
      "Epoch 93/300\n",
      "23/23 [==============================] - 0s 19ms/step - loss: 0.4280 - accuracy: 0.8021 - val_loss: 0.3656 - val_accuracy: 0.8427\n",
      "Epoch 94/300\n",
      "23/23 [==============================] - 0s 19ms/step - loss: 0.4150 - accuracy: 0.8367 - val_loss: 0.3656 - val_accuracy: 0.8427\n",
      "Epoch 95/300\n",
      "23/23 [==============================] - 0s 19ms/step - loss: 0.4149 - accuracy: 0.8208 - val_loss: 0.3636 - val_accuracy: 0.8539\n",
      "Epoch 96/300\n",
      "23/23 [==============================] - 0s 19ms/step - loss: 0.4574 - accuracy: 0.7802 - val_loss: 0.3662 - val_accuracy: 0.8427\n",
      "Epoch 97/300\n",
      "23/23 [==============================] - 0s 18ms/step - loss: 0.4593 - accuracy: 0.7954 - val_loss: 0.3663 - val_accuracy: 0.8427\n",
      "Epoch 98/300\n",
      "23/23 [==============================] - 0s 19ms/step - loss: 0.4679 - accuracy: 0.7926 - val_loss: 0.3657 - val_accuracy: 0.8427\n",
      "Epoch 99/300\n",
      "23/23 [==============================] - 0s 20ms/step - loss: 0.4401 - accuracy: 0.8014 - val_loss: 0.3654 - val_accuracy: 0.8427\n",
      "Epoch 100/300\n",
      "23/23 [==============================] - 0s 19ms/step - loss: 0.4610 - accuracy: 0.7810 - val_loss: 0.3647 - val_accuracy: 0.8539\n",
      "Epoch 101/300\n",
      "23/23 [==============================] - 0s 19ms/step - loss: 0.4288 - accuracy: 0.8228 - val_loss: 0.3633 - val_accuracy: 0.8539\n",
      "Epoch 102/300\n",
      "23/23 [==============================] - 0s 20ms/step - loss: 0.4284 - accuracy: 0.8018 - val_loss: 0.3688 - val_accuracy: 0.8427\n",
      "Epoch 103/300\n",
      "23/23 [==============================] - 0s 20ms/step - loss: 0.4710 - accuracy: 0.7771 - val_loss: 0.3686 - val_accuracy: 0.8371\n",
      "Epoch 104/300\n",
      "23/23 [==============================] - 0s 18ms/step - loss: 0.4380 - accuracy: 0.8055 - val_loss: 0.3675 - val_accuracy: 0.8371\n",
      "Epoch 105/300\n",
      "23/23 [==============================] - 0s 19ms/step - loss: 0.4291 - accuracy: 0.8147 - val_loss: 0.3664 - val_accuracy: 0.8427\n",
      "Epoch 106/300\n",
      "23/23 [==============================] - 0s 19ms/step - loss: 0.4721 - accuracy: 0.8005 - val_loss: 0.3698 - val_accuracy: 0.8371\n",
      "Epoch 107/300\n",
      "23/23 [==============================] - 0s 19ms/step - loss: 0.4502 - accuracy: 0.8004 - val_loss: 0.3703 - val_accuracy: 0.8483\n",
      "Epoch 108/300\n",
      "23/23 [==============================] - 0s 19ms/step - loss: 0.4179 - accuracy: 0.8174 - val_loss: 0.3699 - val_accuracy: 0.8483\n",
      "Epoch 109/300\n",
      "23/23 [==============================] - 0s 19ms/step - loss: 0.4712 - accuracy: 0.7872 - val_loss: 0.3677 - val_accuracy: 0.8427\n",
      "Epoch 110/300\n",
      "23/23 [==============================] - 0s 19ms/step - loss: 0.4481 - accuracy: 0.7965 - val_loss: 0.3711 - val_accuracy: 0.8427\n",
      "Epoch 111/300\n",
      "23/23 [==============================] - 0s 19ms/step - loss: 0.4254 - accuracy: 0.8149 - val_loss: 0.3739 - val_accuracy: 0.8427\n",
      "Epoch 112/300\n",
      "23/23 [==============================] - 0s 19ms/step - loss: 0.4202 - accuracy: 0.8166 - val_loss: 0.3721 - val_accuracy: 0.8371\n",
      "Epoch 113/300\n",
      "23/23 [==============================] - 0s 20ms/step - loss: 0.4385 - accuracy: 0.8004 - val_loss: 0.3678 - val_accuracy: 0.8315\n",
      "Epoch 114/300\n",
      "23/23 [==============================] - 0s 19ms/step - loss: 0.4457 - accuracy: 0.7833 - val_loss: 0.3617 - val_accuracy: 0.8483\n",
      "Epoch 115/300\n",
      "23/23 [==============================] - 0s 19ms/step - loss: 0.4650 - accuracy: 0.8055 - val_loss: 0.3639 - val_accuracy: 0.8427\n",
      "Epoch 116/300\n",
      "23/23 [==============================] - 0s 19ms/step - loss: 0.4469 - accuracy: 0.8040 - val_loss: 0.3602 - val_accuracy: 0.8483\n",
      "Epoch 117/300\n",
      "23/23 [==============================] - 0s 19ms/step - loss: 0.4272 - accuracy: 0.8081 - val_loss: 0.3645 - val_accuracy: 0.8483\n",
      "Epoch 118/300\n",
      "23/23 [==============================] - 0s 18ms/step - loss: 0.4416 - accuracy: 0.8014 - val_loss: 0.3668 - val_accuracy: 0.8371\n",
      "Epoch 119/300\n",
      "23/23 [==============================] - 0s 19ms/step - loss: 0.4303 - accuracy: 0.8025 - val_loss: 0.3623 - val_accuracy: 0.8483\n",
      "Epoch 120/300\n",
      "23/23 [==============================] - 0s 19ms/step - loss: 0.4497 - accuracy: 0.7869 - val_loss: 0.3597 - val_accuracy: 0.8483\n",
      "Epoch 121/300\n"
     ]
    },
    {
     "name": "stdout",
     "output_type": "stream",
     "text": [
      "23/23 [==============================] - 0s 20ms/step - loss: 0.4296 - accuracy: 0.8139 - val_loss: 0.3628 - val_accuracy: 0.8483\n",
      "Epoch 122/300\n",
      "23/23 [==============================] - 0s 19ms/step - loss: 0.4433 - accuracy: 0.8171 - val_loss: 0.3648 - val_accuracy: 0.8427\n",
      "Epoch 123/300\n",
      "23/23 [==============================] - 0s 19ms/step - loss: 0.4164 - accuracy: 0.8204 - val_loss: 0.3610 - val_accuracy: 0.8483\n",
      "Epoch 124/300\n",
      "23/23 [==============================] - 0s 19ms/step - loss: 0.4519 - accuracy: 0.8045 - val_loss: 0.3668 - val_accuracy: 0.8427\n",
      "Epoch 125/300\n",
      "23/23 [==============================] - 0s 19ms/step - loss: 0.4609 - accuracy: 0.7996 - val_loss: 0.3644 - val_accuracy: 0.8427\n",
      "Epoch 126/300\n",
      "23/23 [==============================] - 0s 20ms/step - loss: 0.4417 - accuracy: 0.8012 - val_loss: 0.3614 - val_accuracy: 0.8483\n",
      "Epoch 127/300\n",
      "23/23 [==============================] - 0s 20ms/step - loss: 0.4264 - accuracy: 0.8030 - val_loss: 0.3616 - val_accuracy: 0.8539\n",
      "Epoch 128/300\n",
      "23/23 [==============================] - 0s 19ms/step - loss: 0.4003 - accuracy: 0.8313 - val_loss: 0.3620 - val_accuracy: 0.8539\n",
      "Epoch 129/300\n",
      "23/23 [==============================] - 0s 19ms/step - loss: 0.4621 - accuracy: 0.8084 - val_loss: 0.3635 - val_accuracy: 0.8483\n",
      "Epoch 130/300\n",
      "23/23 [==============================] - 0s 19ms/step - loss: 0.4283 - accuracy: 0.8114 - val_loss: 0.3601 - val_accuracy: 0.8483\n",
      "Epoch 131/300\n",
      "23/23 [==============================] - 0s 20ms/step - loss: 0.4159 - accuracy: 0.8220 - val_loss: 0.3593 - val_accuracy: 0.8539\n",
      "Epoch 132/300\n",
      "23/23 [==============================] - 0s 19ms/step - loss: 0.4050 - accuracy: 0.8253 - val_loss: 0.3594 - val_accuracy: 0.8539\n",
      "Epoch 133/300\n",
      "23/23 [==============================] - 0s 21ms/step - loss: 0.4060 - accuracy: 0.8244 - val_loss: 0.3594 - val_accuracy: 0.8539\n",
      "Epoch 134/300\n",
      "23/23 [==============================] - 0s 19ms/step - loss: 0.4750 - accuracy: 0.7809 - val_loss: 0.3616 - val_accuracy: 0.8539\n",
      "Epoch 135/300\n",
      "23/23 [==============================] - 0s 20ms/step - loss: 0.4422 - accuracy: 0.8174 - val_loss: 0.3689 - val_accuracy: 0.8371\n",
      "Epoch 136/300\n",
      "23/23 [==============================] - 0s 19ms/step - loss: 0.3838 - accuracy: 0.8426 - val_loss: 0.3675 - val_accuracy: 0.8371\n",
      "Epoch 137/300\n",
      "23/23 [==============================] - 0s 19ms/step - loss: 0.4476 - accuracy: 0.7968 - val_loss: 0.3644 - val_accuracy: 0.8427\n",
      "Epoch 138/300\n",
      "23/23 [==============================] - 0s 19ms/step - loss: 0.4502 - accuracy: 0.7942 - val_loss: 0.3655 - val_accuracy: 0.8427\n",
      "Epoch 139/300\n",
      "23/23 [==============================] - 0s 19ms/step - loss: 0.4718 - accuracy: 0.7923 - val_loss: 0.3645 - val_accuracy: 0.8427\n",
      "Epoch 140/300\n",
      "23/23 [==============================] - 0s 19ms/step - loss: 0.4481 - accuracy: 0.7888 - val_loss: 0.3617 - val_accuracy: 0.8539\n",
      "Epoch 141/300\n",
      "23/23 [==============================] - 0s 20ms/step - loss: 0.4218 - accuracy: 0.8033 - val_loss: 0.3620 - val_accuracy: 0.8483\n",
      "Epoch 142/300\n",
      "23/23 [==============================] - 0s 20ms/step - loss: 0.4387 - accuracy: 0.8175 - val_loss: 0.3591 - val_accuracy: 0.8483\n",
      "Epoch 143/300\n",
      "23/23 [==============================] - 0s 20ms/step - loss: 0.4614 - accuracy: 0.7845 - val_loss: 0.3590 - val_accuracy: 0.8539\n",
      "Epoch 144/300\n",
      "23/23 [==============================] - 0s 20ms/step - loss: 0.4455 - accuracy: 0.8177 - val_loss: 0.3620 - val_accuracy: 0.8539\n",
      "Epoch 145/300\n",
      "23/23 [==============================] - 0s 20ms/step - loss: 0.4272 - accuracy: 0.8074 - val_loss: 0.3628 - val_accuracy: 0.8539\n",
      "Epoch 146/300\n",
      "23/23 [==============================] - 0s 21ms/step - loss: 0.4216 - accuracy: 0.8302 - val_loss: 0.3660 - val_accuracy: 0.8427\n",
      "Epoch 147/300\n",
      "23/23 [==============================] - 0s 21ms/step - loss: 0.4181 - accuracy: 0.8193 - val_loss: 0.3664 - val_accuracy: 0.8427\n",
      "Epoch 148/300\n",
      "23/23 [==============================] - 0s 20ms/step - loss: 0.4196 - accuracy: 0.8073 - val_loss: 0.3693 - val_accuracy: 0.8371\n",
      "Epoch 149/300\n",
      "23/23 [==============================] - 0s 20ms/step - loss: 0.4627 - accuracy: 0.7866 - val_loss: 0.3728 - val_accuracy: 0.8427\n",
      "Epoch 150/300\n",
      "23/23 [==============================] - ETA: 0s - loss: 0.4519 - accuracy: 0.80 - 0s 19ms/step - loss: 0.4488 - accuracy: 0.8036 - val_loss: 0.3714 - val_accuracy: 0.8371\n",
      "Epoch 151/300\n",
      "23/23 [==============================] - 0s 20ms/step - loss: 0.3988 - accuracy: 0.8246 - val_loss: 0.3708 - val_accuracy: 0.8371\n",
      "Epoch 152/300\n",
      "23/23 [==============================] - 0s 20ms/step - loss: 0.3930 - accuracy: 0.8325 - val_loss: 0.3719 - val_accuracy: 0.8371\n",
      "Epoch 153/300\n",
      "23/23 [==============================] - 0s 21ms/step - loss: 0.3919 - accuracy: 0.8338 - val_loss: 0.3662 - val_accuracy: 0.8427\n",
      "Epoch 154/300\n",
      "23/23 [==============================] - 0s 21ms/step - loss: 0.4729 - accuracy: 0.7933 - val_loss: 0.3676 - val_accuracy: 0.8371\n",
      "Epoch 155/300\n",
      "23/23 [==============================] - 0s 20ms/step - loss: 0.4088 - accuracy: 0.8295 - val_loss: 0.3683 - val_accuracy: 0.8371\n",
      "Epoch 156/300\n",
      "23/23 [==============================] - 0s 20ms/step - loss: 0.4235 - accuracy: 0.8030 - val_loss: 0.3669 - val_accuracy: 0.8371\n",
      "Epoch 157/300\n",
      "23/23 [==============================] - 0s 20ms/step - loss: 0.4338 - accuracy: 0.8013 - val_loss: 0.3681 - val_accuracy: 0.8371\n",
      "Epoch 158/300\n",
      "23/23 [==============================] - 0s 20ms/step - loss: 0.4497 - accuracy: 0.7972 - val_loss: 0.3642 - val_accuracy: 0.8427\n",
      "Epoch 159/300\n",
      "23/23 [==============================] - 0s 21ms/step - loss: 0.3898 - accuracy: 0.8348 - val_loss: 0.3640 - val_accuracy: 0.8371\n",
      "Epoch 160/300\n",
      "23/23 [==============================] - 0s 20ms/step - loss: 0.4321 - accuracy: 0.8029 - val_loss: 0.3667 - val_accuracy: 0.8371\n",
      "Epoch 161/300\n",
      "23/23 [==============================] - 0s 20ms/step - loss: 0.3896 - accuracy: 0.8431 - val_loss: 0.3659 - val_accuracy: 0.8371\n",
      "Epoch 162/300\n",
      "23/23 [==============================] - 0s 20ms/step - loss: 0.4285 - accuracy: 0.8015 - val_loss: 0.3654 - val_accuracy: 0.8371\n",
      "Epoch 163/300\n",
      "23/23 [==============================] - 0s 20ms/step - loss: 0.4410 - accuracy: 0.8169 - val_loss: 0.3638 - val_accuracy: 0.8371\n",
      "Epoch 164/300\n",
      "23/23 [==============================] - 0s 20ms/step - loss: 0.4466 - accuracy: 0.8066 - val_loss: 0.3678 - val_accuracy: 0.8371\n",
      "Epoch 165/300\n",
      "23/23 [==============================] - 0s 20ms/step - loss: 0.4738 - accuracy: 0.7962 - val_loss: 0.3669 - val_accuracy: 0.8371\n",
      "Epoch 166/300\n",
      "23/23 [==============================] - 0s 19ms/step - loss: 0.4811 - accuracy: 0.7985 - val_loss: 0.3646 - val_accuracy: 0.8427\n",
      "Epoch 167/300\n",
      "23/23 [==============================] - 0s 20ms/step - loss: 0.4511 - accuracy: 0.8122 - val_loss: 0.3634 - val_accuracy: 0.8371\n",
      "Epoch 168/300\n",
      "23/23 [==============================] - 0s 19ms/step - loss: 0.4291 - accuracy: 0.8304 - val_loss: 0.3598 - val_accuracy: 0.8483\n",
      "Epoch 169/300\n",
      "23/23 [==============================] - 0s 20ms/step - loss: 0.4599 - accuracy: 0.7803 - val_loss: 0.3623 - val_accuracy: 0.8427\n",
      "Epoch 170/300\n",
      "23/23 [==============================] - 0s 20ms/step - loss: 0.4333 - accuracy: 0.8037 - val_loss: 0.3642 - val_accuracy: 0.8427\n",
      "Epoch 171/300\n",
      "23/23 [==============================] - 0s 19ms/step - loss: 0.4449 - accuracy: 0.8013 - val_loss: 0.3645 - val_accuracy: 0.8427\n",
      "Epoch 172/300\n",
      "23/23 [==============================] - 0s 19ms/step - loss: 0.4471 - accuracy: 0.8051 - val_loss: 0.3654 - val_accuracy: 0.8483\n",
      "Epoch 173/300\n",
      "23/23 [==============================] - 0s 20ms/step - loss: 0.4298 - accuracy: 0.8143 - val_loss: 0.3640 - val_accuracy: 0.8427\n",
      "Epoch 174/300\n",
      "23/23 [==============================] - 0s 19ms/step - loss: 0.4070 - accuracy: 0.8166 - val_loss: 0.3602 - val_accuracy: 0.8483\n",
      "Epoch 175/300\n",
      "23/23 [==============================] - 0s 20ms/step - loss: 0.4241 - accuracy: 0.8100 - val_loss: 0.3604 - val_accuracy: 0.8483\n",
      "Epoch 176/300\n",
      "23/23 [==============================] - 0s 20ms/step - loss: 0.4431 - accuracy: 0.8177 - val_loss: 0.3585 - val_accuracy: 0.8539\n",
      "Epoch 177/300\n",
      "23/23 [==============================] - 0s 18ms/step - loss: 0.4315 - accuracy: 0.8136 - val_loss: 0.3562 - val_accuracy: 0.8483\n"
     ]
    },
    {
     "name": "stdout",
     "output_type": "stream",
     "text": [
      "Epoch 178/300\n",
      "23/23 [==============================] - 0s 20ms/step - loss: 0.4725 - accuracy: 0.7805 - val_loss: 0.3581 - val_accuracy: 0.8483\n",
      "Epoch 179/300\n",
      "23/23 [==============================] - 0s 20ms/step - loss: 0.4122 - accuracy: 0.8147 - val_loss: 0.3632 - val_accuracy: 0.8427\n",
      "Epoch 180/300\n",
      "23/23 [==============================] - 0s 19ms/step - loss: 0.4503 - accuracy: 0.7848 - val_loss: 0.3608 - val_accuracy: 0.8539\n",
      "Epoch 181/300\n",
      "23/23 [==============================] - 0s 20ms/step - loss: 0.4096 - accuracy: 0.8255 - val_loss: 0.3618 - val_accuracy: 0.8483\n",
      "Epoch 182/300\n",
      "23/23 [==============================] - 0s 20ms/step - loss: 0.4256 - accuracy: 0.8300 - val_loss: 0.3611 - val_accuracy: 0.8539\n",
      "Epoch 183/300\n",
      "23/23 [==============================] - 0s 19ms/step - loss: 0.4333 - accuracy: 0.8166 - val_loss: 0.3609 - val_accuracy: 0.8483\n",
      "Epoch 184/300\n",
      "23/23 [==============================] - 0s 20ms/step - loss: 0.4159 - accuracy: 0.8265 - val_loss: 0.3623 - val_accuracy: 0.8483\n",
      "Epoch 185/300\n",
      "23/23 [==============================] - 0s 19ms/step - loss: 0.4484 - accuracy: 0.8118 - val_loss: 0.3680 - val_accuracy: 0.8483\n",
      "Epoch 186/300\n",
      "23/23 [==============================] - 0s 19ms/step - loss: 0.4269 - accuracy: 0.8146 - val_loss: 0.3714 - val_accuracy: 0.8427\n",
      "Epoch 187/300\n",
      "23/23 [==============================] - 0s 19ms/step - loss: 0.4303 - accuracy: 0.8200 - val_loss: 0.3714 - val_accuracy: 0.8371\n",
      "Epoch 188/300\n",
      "23/23 [==============================] - 0s 19ms/step - loss: 0.4682 - accuracy: 0.7862 - val_loss: 0.3678 - val_accuracy: 0.8371\n",
      "Epoch 189/300\n",
      "23/23 [==============================] - 0s 19ms/step - loss: 0.4454 - accuracy: 0.8125 - val_loss: 0.3681 - val_accuracy: 0.8371\n",
      "Epoch 190/300\n",
      "23/23 [==============================] - 0s 20ms/step - loss: 0.4441 - accuracy: 0.7986 - val_loss: 0.3659 - val_accuracy: 0.8371\n",
      "Epoch 191/300\n",
      "23/23 [==============================] - 0s 20ms/step - loss: 0.4500 - accuracy: 0.7696 - val_loss: 0.3627 - val_accuracy: 0.8371\n",
      "Epoch 192/300\n",
      "23/23 [==============================] - 0s 19ms/step - loss: 0.4393 - accuracy: 0.8029 - val_loss: 0.3675 - val_accuracy: 0.8371\n",
      "Epoch 193/300\n",
      "23/23 [==============================] - 0s 19ms/step - loss: 0.4349 - accuracy: 0.8056 - val_loss: 0.3693 - val_accuracy: 0.8371\n",
      "Epoch 194/300\n",
      "23/23 [==============================] - 0s 20ms/step - loss: 0.4124 - accuracy: 0.8236 - val_loss: 0.3656 - val_accuracy: 0.8371\n",
      "Epoch 195/300\n",
      "23/23 [==============================] - 0s 19ms/step - loss: 0.4537 - accuracy: 0.8054 - val_loss: 0.3645 - val_accuracy: 0.8371\n",
      "Epoch 196/300\n",
      "23/23 [==============================] - 0s 19ms/step - loss: 0.3874 - accuracy: 0.8230 - val_loss: 0.3687 - val_accuracy: 0.8371\n",
      "Epoch 197/300\n",
      "23/23 [==============================] - 0s 20ms/step - loss: 0.4364 - accuracy: 0.7957 - val_loss: 0.3728 - val_accuracy: 0.8315\n",
      "Epoch 198/300\n",
      "23/23 [==============================] - 0s 20ms/step - loss: 0.4271 - accuracy: 0.8274 - val_loss: 0.3762 - val_accuracy: 0.8258\n",
      "Epoch 199/300\n",
      "23/23 [==============================] - 0s 19ms/step - loss: 0.4493 - accuracy: 0.7956 - val_loss: 0.3788 - val_accuracy: 0.8315\n",
      "Epoch 200/300\n",
      "23/23 [==============================] - 0s 19ms/step - loss: 0.4228 - accuracy: 0.8011 - val_loss: 0.3796 - val_accuracy: 0.8315\n",
      "Epoch 201/300\n",
      "23/23 [==============================] - 0s 19ms/step - loss: 0.4260 - accuracy: 0.8133 - val_loss: 0.3779 - val_accuracy: 0.8258\n",
      "Epoch 202/300\n",
      "23/23 [==============================] - 0s 19ms/step - loss: 0.4331 - accuracy: 0.8103 - val_loss: 0.3730 - val_accuracy: 0.8371\n",
      "Epoch 203/300\n",
      "23/23 [==============================] - 0s 20ms/step - loss: 0.4178 - accuracy: 0.8210 - val_loss: 0.3728 - val_accuracy: 0.8371\n",
      "Epoch 204/300\n",
      "23/23 [==============================] - 0s 19ms/step - loss: 0.4576 - accuracy: 0.7907 - val_loss: 0.3791 - val_accuracy: 0.8258\n",
      "Epoch 205/300\n",
      "23/23 [==============================] - 0s 19ms/step - loss: 0.4290 - accuracy: 0.8157 - val_loss: 0.3773 - val_accuracy: 0.8258\n",
      "Epoch 206/300\n",
      "23/23 [==============================] - 0s 19ms/step - loss: 0.4402 - accuracy: 0.7999 - val_loss: 0.3737 - val_accuracy: 0.8315\n",
      "Epoch 207/300\n",
      "23/23 [==============================] - 0s 19ms/step - loss: 0.4026 - accuracy: 0.8258 - val_loss: 0.3729 - val_accuracy: 0.8371\n",
      "Epoch 208/300\n",
      "23/23 [==============================] - 0s 19ms/step - loss: 0.4448 - accuracy: 0.8067 - val_loss: 0.3749 - val_accuracy: 0.8371\n",
      "Epoch 209/300\n",
      "23/23 [==============================] - 0s 20ms/step - loss: 0.4699 - accuracy: 0.7959 - val_loss: 0.3721 - val_accuracy: 0.8371\n",
      "Epoch 210/300\n",
      "23/23 [==============================] - 0s 19ms/step - loss: 0.4319 - accuracy: 0.8130 - val_loss: 0.3720 - val_accuracy: 0.8371\n",
      "Epoch 211/300\n",
      "23/23 [==============================] - 0s 20ms/step - loss: 0.4492 - accuracy: 0.7909 - val_loss: 0.3665 - val_accuracy: 0.8371\n",
      "Epoch 212/300\n",
      "23/23 [==============================] - 0s 19ms/step - loss: 0.4101 - accuracy: 0.8268 - val_loss: 0.3689 - val_accuracy: 0.8315\n",
      "Epoch 213/300\n",
      "23/23 [==============================] - 0s 20ms/step - loss: 0.4132 - accuracy: 0.8311 - val_loss: 0.3709 - val_accuracy: 0.8371\n",
      "Epoch 214/300\n",
      "23/23 [==============================] - 0s 19ms/step - loss: 0.4431 - accuracy: 0.8025 - val_loss: 0.3670 - val_accuracy: 0.8371\n",
      "Epoch 215/300\n",
      "23/23 [==============================] - 0s 19ms/step - loss: 0.4118 - accuracy: 0.8329 - val_loss: 0.3694 - val_accuracy: 0.8371\n",
      "Epoch 216/300\n",
      "23/23 [==============================] - 0s 20ms/step - loss: 0.4384 - accuracy: 0.8039 - val_loss: 0.3696 - val_accuracy: 0.8371\n",
      "Epoch 217/300\n",
      "23/23 [==============================] - 0s 20ms/step - loss: 0.4384 - accuracy: 0.8144 - val_loss: 0.3656 - val_accuracy: 0.8427\n",
      "Epoch 218/300\n",
      "23/23 [==============================] - 0s 19ms/step - loss: 0.4555 - accuracy: 0.7751 - val_loss: 0.3682 - val_accuracy: 0.8427\n",
      "Epoch 219/300\n",
      "23/23 [==============================] - 0s 19ms/step - loss: 0.4368 - accuracy: 0.7957 - val_loss: 0.3713 - val_accuracy: 0.8427\n",
      "Epoch 220/300\n",
      "23/23 [==============================] - 0s 20ms/step - loss: 0.4321 - accuracy: 0.7897 - val_loss: 0.3667 - val_accuracy: 0.8427\n",
      "Epoch 221/300\n",
      "23/23 [==============================] - 0s 20ms/step - loss: 0.4503 - accuracy: 0.8068 - val_loss: 0.3645 - val_accuracy: 0.8483\n",
      "Epoch 222/300\n",
      "23/23 [==============================] - 0s 20ms/step - loss: 0.4685 - accuracy: 0.7946 - val_loss: 0.3655 - val_accuracy: 0.8483\n",
      "Epoch 223/300\n",
      "23/23 [==============================] - 0s 20ms/step - loss: 0.4349 - accuracy: 0.7923 - val_loss: 0.3688 - val_accuracy: 0.8427\n",
      "Epoch 224/300\n",
      "23/23 [==============================] - 0s 20ms/step - loss: 0.3995 - accuracy: 0.8249 - val_loss: 0.3745 - val_accuracy: 0.8371\n",
      "Epoch 225/300\n",
      "23/23 [==============================] - 0s 20ms/step - loss: 0.4584 - accuracy: 0.7814 - val_loss: 0.3718 - val_accuracy: 0.8427\n",
      "Epoch 226/300\n",
      "23/23 [==============================] - 0s 19ms/step - loss: 0.4282 - accuracy: 0.7994 - val_loss: 0.3694 - val_accuracy: 0.8371\n",
      "Epoch 227/300\n",
      "23/23 [==============================] - 0s 19ms/step - loss: 0.4365 - accuracy: 0.7893 - val_loss: 0.3691 - val_accuracy: 0.8371\n",
      "Epoch 228/300\n",
      "23/23 [==============================] - 0s 19ms/step - loss: 0.4263 - accuracy: 0.8178 - val_loss: 0.3709 - val_accuracy: 0.8371\n",
      "Epoch 229/300\n",
      "23/23 [==============================] - 0s 20ms/step - loss: 0.4733 - accuracy: 0.7998 - val_loss: 0.3685 - val_accuracy: 0.8371\n",
      "Epoch 230/300\n",
      "23/23 [==============================] - 0s 20ms/step - loss: 0.4046 - accuracy: 0.8352 - val_loss: 0.3742 - val_accuracy: 0.8315\n",
      "Epoch 231/300\n",
      "23/23 [==============================] - 0s 19ms/step - loss: 0.4043 - accuracy: 0.8230 - val_loss: 0.3718 - val_accuracy: 0.8371\n",
      "Epoch 232/300\n",
      "23/23 [==============================] - 0s 19ms/step - loss: 0.4182 - accuracy: 0.8184 - val_loss: 0.3771 - val_accuracy: 0.8258\n",
      "Epoch 233/300\n",
      "23/23 [==============================] - 0s 20ms/step - loss: 0.4004 - accuracy: 0.8224 - val_loss: 0.3791 - val_accuracy: 0.8258\n",
      "Epoch 234/300\n",
      "23/23 [==============================] - 0s 20ms/step - loss: 0.4418 - accuracy: 0.7944 - val_loss: 0.3753 - val_accuracy: 0.8371\n"
     ]
    },
    {
     "name": "stdout",
     "output_type": "stream",
     "text": [
      "Epoch 235/300\n",
      "23/23 [==============================] - 0s 20ms/step - loss: 0.4056 - accuracy: 0.8160 - val_loss: 0.3732 - val_accuracy: 0.8371\n",
      "Epoch 236/300\n",
      "23/23 [==============================] - 0s 20ms/step - loss: 0.4345 - accuracy: 0.8112 - val_loss: 0.3733 - val_accuracy: 0.8315\n",
      "Epoch 237/300\n",
      "23/23 [==============================] - 0s 19ms/step - loss: 0.4041 - accuracy: 0.8333 - val_loss: 0.3715 - val_accuracy: 0.8371\n",
      "Epoch 238/300\n",
      "23/23 [==============================] - 0s 20ms/step - loss: 0.4160 - accuracy: 0.8262 - val_loss: 0.3746 - val_accuracy: 0.8315\n",
      "Epoch 239/300\n",
      "23/23 [==============================] - 0s 20ms/step - loss: 0.3971 - accuracy: 0.8182 - val_loss: 0.3791 - val_accuracy: 0.8315\n",
      "Epoch 240/300\n",
      "23/23 [==============================] - 0s 19ms/step - loss: 0.4250 - accuracy: 0.8107 - val_loss: 0.3825 - val_accuracy: 0.8258\n",
      "Epoch 241/300\n",
      "23/23 [==============================] - 0s 19ms/step - loss: 0.4463 - accuracy: 0.8014 - val_loss: 0.3765 - val_accuracy: 0.8258\n",
      "Epoch 242/300\n",
      "23/23 [==============================] - 0s 19ms/step - loss: 0.4144 - accuracy: 0.8083 - val_loss: 0.3767 - val_accuracy: 0.8258\n",
      "Epoch 243/300\n",
      "23/23 [==============================] - 0s 19ms/step - loss: 0.4519 - accuracy: 0.7994 - val_loss: 0.3844 - val_accuracy: 0.8315\n",
      "Epoch 244/300\n",
      "23/23 [==============================] - 0s 19ms/step - loss: 0.4762 - accuracy: 0.7852 - val_loss: 0.3744 - val_accuracy: 0.8315\n",
      "Epoch 245/300\n",
      "23/23 [==============================] - 0s 19ms/step - loss: 0.4052 - accuracy: 0.8381 - val_loss: 0.3715 - val_accuracy: 0.8315\n",
      "Epoch 246/300\n",
      "23/23 [==============================] - 0s 20ms/step - loss: 0.4380 - accuracy: 0.8053 - val_loss: 0.3685 - val_accuracy: 0.8371\n",
      "Epoch 247/300\n",
      "23/23 [==============================] - 0s 19ms/step - loss: 0.4577 - accuracy: 0.7857 - val_loss: 0.3737 - val_accuracy: 0.8371\n",
      "Epoch 248/300\n",
      "23/23 [==============================] - 0s 20ms/step - loss: 0.4396 - accuracy: 0.7931 - val_loss: 0.3763 - val_accuracy: 0.8315\n",
      "Epoch 249/300\n",
      "23/23 [==============================] - 0s 19ms/step - loss: 0.4188 - accuracy: 0.8248 - val_loss: 0.3810 - val_accuracy: 0.8258\n",
      "Epoch 250/300\n",
      "23/23 [==============================] - 0s 19ms/step - loss: 0.3856 - accuracy: 0.8374 - val_loss: 0.3777 - val_accuracy: 0.8315\n",
      "Epoch 251/300\n",
      "23/23 [==============================] - 0s 20ms/step - loss: 0.4100 - accuracy: 0.8159 - val_loss: 0.3785 - val_accuracy: 0.8258\n",
      "Epoch 252/300\n",
      "23/23 [==============================] - 0s 19ms/step - loss: 0.3951 - accuracy: 0.8405 - val_loss: 0.3758 - val_accuracy: 0.8371\n",
      "Epoch 253/300\n",
      "23/23 [==============================] - 0s 20ms/step - loss: 0.4431 - accuracy: 0.7904 - val_loss: 0.3710 - val_accuracy: 0.8315\n",
      "Epoch 254/300\n",
      "23/23 [==============================] - 0s 19ms/step - loss: 0.4060 - accuracy: 0.8202 - val_loss: 0.3746 - val_accuracy: 0.8315\n",
      "Epoch 255/300\n",
      "23/23 [==============================] - 0s 19ms/step - loss: 0.4346 - accuracy: 0.8105 - val_loss: 0.3774 - val_accuracy: 0.8258\n",
      "Epoch 256/300\n",
      "23/23 [==============================] - 0s 20ms/step - loss: 0.4245 - accuracy: 0.8079 - val_loss: 0.3679 - val_accuracy: 0.8315\n",
      "Epoch 257/300\n",
      "23/23 [==============================] - 0s 19ms/step - loss: 0.4168 - accuracy: 0.8136 - val_loss: 0.3722 - val_accuracy: 0.8371\n",
      "Epoch 258/300\n",
      "23/23 [==============================] - 0s 19ms/step - loss: 0.4039 - accuracy: 0.8279 - val_loss: 0.3715 - val_accuracy: 0.8371\n",
      "Epoch 259/300\n",
      "23/23 [==============================] - 0s 19ms/step - loss: 0.4233 - accuracy: 0.8110 - val_loss: 0.3693 - val_accuracy: 0.8371\n",
      "Epoch 260/300\n",
      "23/23 [==============================] - 0s 20ms/step - loss: 0.4696 - accuracy: 0.8063 - val_loss: 0.3708 - val_accuracy: 0.8371\n",
      "Epoch 261/300\n",
      "23/23 [==============================] - 0s 20ms/step - loss: 0.4253 - accuracy: 0.8121 - val_loss: 0.3683 - val_accuracy: 0.8427\n",
      "Epoch 262/300\n",
      "23/23 [==============================] - 0s 19ms/step - loss: 0.4450 - accuracy: 0.7946 - val_loss: 0.3690 - val_accuracy: 0.8371\n",
      "Epoch 263/300\n",
      "23/23 [==============================] - 0s 20ms/step - loss: 0.3976 - accuracy: 0.8170 - val_loss: 0.3737 - val_accuracy: 0.8315\n",
      "Epoch 264/300\n",
      "23/23 [==============================] - 0s 19ms/step - loss: 0.4256 - accuracy: 0.8093 - val_loss: 0.3706 - val_accuracy: 0.8371\n",
      "Epoch 265/300\n",
      "23/23 [==============================] - 0s 20ms/step - loss: 0.4528 - accuracy: 0.7924 - val_loss: 0.3708 - val_accuracy: 0.8371\n",
      "Epoch 266/300\n",
      "23/23 [==============================] - 0s 19ms/step - loss: 0.4472 - accuracy: 0.7846 - val_loss: 0.3739 - val_accuracy: 0.8371\n",
      "Epoch 267/300\n",
      "23/23 [==============================] - 0s 19ms/step - loss: 0.4240 - accuracy: 0.8188 - val_loss: 0.3756 - val_accuracy: 0.8258\n",
      "Epoch 268/300\n",
      "23/23 [==============================] - 0s 20ms/step - loss: 0.4162 - accuracy: 0.8291 - val_loss: 0.3711 - val_accuracy: 0.8371\n",
      "Epoch 269/300\n",
      "23/23 [==============================] - 0s 20ms/step - loss: 0.4385 - accuracy: 0.8038 - val_loss: 0.3775 - val_accuracy: 0.8315\n",
      "Epoch 270/300\n",
      "23/23 [==============================] - 0s 20ms/step - loss: 0.4616 - accuracy: 0.8095 - val_loss: 0.3706 - val_accuracy: 0.8371\n",
      "Epoch 271/300\n",
      "23/23 [==============================] - 0s 20ms/step - loss: 0.4224 - accuracy: 0.8101 - val_loss: 0.3698 - val_accuracy: 0.8427\n",
      "Epoch 272/300\n",
      "23/23 [==============================] - 0s 20ms/step - loss: 0.4283 - accuracy: 0.8311 - val_loss: 0.3741 - val_accuracy: 0.8427\n",
      "Epoch 273/300\n",
      "23/23 [==============================] - 0s 20ms/step - loss: 0.4647 - accuracy: 0.8016 - val_loss: 0.3743 - val_accuracy: 0.8427\n",
      "Epoch 274/300\n",
      "23/23 [==============================] - 0s 20ms/step - loss: 0.4437 - accuracy: 0.8107 - val_loss: 0.3722 - val_accuracy: 0.8371\n",
      "Epoch 275/300\n",
      "23/23 [==============================] - 0s 20ms/step - loss: 0.4304 - accuracy: 0.8206 - val_loss: 0.3714 - val_accuracy: 0.8371\n",
      "Epoch 276/300\n",
      "23/23 [==============================] - 0s 20ms/step - loss: 0.4033 - accuracy: 0.8220 - val_loss: 0.3734 - val_accuracy: 0.8371\n",
      "Epoch 277/300\n",
      "23/23 [==============================] - 0s 20ms/step - loss: 0.4621 - accuracy: 0.7946 - val_loss: 0.3699 - val_accuracy: 0.8371\n",
      "Epoch 278/300\n",
      "23/23 [==============================] - 0s 20ms/step - loss: 0.4216 - accuracy: 0.8232 - val_loss: 0.3699 - val_accuracy: 0.8371\n",
      "Epoch 279/300\n",
      "23/23 [==============================] - 0s 20ms/step - loss: 0.4649 - accuracy: 0.7830 - val_loss: 0.3774 - val_accuracy: 0.8371\n",
      "Epoch 280/300\n",
      "23/23 [==============================] - 0s 19ms/step - loss: 0.4363 - accuracy: 0.8112 - val_loss: 0.3780 - val_accuracy: 0.8315\n",
      "Epoch 281/300\n",
      "23/23 [==============================] - 0s 20ms/step - loss: 0.4205 - accuracy: 0.8132 - val_loss: 0.3734 - val_accuracy: 0.8371\n",
      "Epoch 282/300\n",
      "23/23 [==============================] - 0s 20ms/step - loss: 0.4317 - accuracy: 0.8057 - val_loss: 0.3743 - val_accuracy: 0.8371\n",
      "Epoch 283/300\n",
      "23/23 [==============================] - 0s 20ms/step - loss: 0.4346 - accuracy: 0.8078 - val_loss: 0.3764 - val_accuracy: 0.8315\n",
      "Epoch 284/300\n",
      "23/23 [==============================] - 0s 19ms/step - loss: 0.4470 - accuracy: 0.7930 - val_loss: 0.3794 - val_accuracy: 0.8371\n",
      "Epoch 285/300\n",
      "23/23 [==============================] - 0s 18ms/step - loss: 0.4329 - accuracy: 0.8032 - val_loss: 0.3754 - val_accuracy: 0.8371\n",
      "Epoch 286/300\n",
      "23/23 [==============================] - 0s 19ms/step - loss: 0.4194 - accuracy: 0.8023 - val_loss: 0.3782 - val_accuracy: 0.8371\n",
      "Epoch 287/300\n",
      "23/23 [==============================] - 0s 19ms/step - loss: 0.4103 - accuracy: 0.8243 - val_loss: 0.3779 - val_accuracy: 0.8371\n",
      "Epoch 288/300\n",
      "23/23 [==============================] - 0s 18ms/step - loss: 0.4118 - accuracy: 0.8262 - val_loss: 0.3825 - val_accuracy: 0.8315\n",
      "Epoch 289/300\n",
      "23/23 [==============================] - 0s 19ms/step - loss: 0.4449 - accuracy: 0.7936 - val_loss: 0.3806 - val_accuracy: 0.8315\n",
      "Epoch 290/300\n",
      "23/23 [==============================] - 0s 19ms/step - loss: 0.4658 - accuracy: 0.7870 - val_loss: 0.3785 - val_accuracy: 0.8371\n",
      "Epoch 291/300\n",
      "23/23 [==============================] - 0s 19ms/step - loss: 0.4073 - accuracy: 0.8229 - val_loss: 0.3825 - val_accuracy: 0.8315\n"
     ]
    },
    {
     "name": "stdout",
     "output_type": "stream",
     "text": [
      "Epoch 292/300\n",
      "23/23 [==============================] - 0s 18ms/step - loss: 0.4662 - accuracy: 0.8077 - val_loss: 0.3825 - val_accuracy: 0.8315\n",
      "Epoch 293/300\n",
      "23/23 [==============================] - 0s 21ms/step - loss: 0.4355 - accuracy: 0.8071 - val_loss: 0.3812 - val_accuracy: 0.8315\n",
      "Epoch 294/300\n",
      "23/23 [==============================] - 0s 19ms/step - loss: 0.4296 - accuracy: 0.8213 - val_loss: 0.3802 - val_accuracy: 0.8315\n",
      "Epoch 295/300\n",
      "23/23 [==============================] - 0s 20ms/step - loss: 0.3879 - accuracy: 0.8485 - val_loss: 0.3769 - val_accuracy: 0.8258\n",
      "Epoch 296/300\n",
      "23/23 [==============================] - 0s 19ms/step - loss: 0.4236 - accuracy: 0.8078 - val_loss: 0.3730 - val_accuracy: 0.8427\n",
      "Epoch 297/300\n",
      "23/23 [==============================] - 0s 20ms/step - loss: 0.4180 - accuracy: 0.8128 - val_loss: 0.3731 - val_accuracy: 0.8371\n",
      "Epoch 298/300\n",
      "23/23 [==============================] - 0s 19ms/step - loss: 0.4619 - accuracy: 0.7878 - val_loss: 0.3753 - val_accuracy: 0.8371\n",
      "Epoch 299/300\n",
      "23/23 [==============================] - 0s 19ms/step - loss: 0.4031 - accuracy: 0.8393 - val_loss: 0.3702 - val_accuracy: 0.8371\n",
      "Epoch 300/300\n",
      "23/23 [==============================] - 0s 19ms/step - loss: 0.4270 - accuracy: 0.8140 - val_loss: 0.3771 - val_accuracy: 0.8371\n"
     ]
    },
    {
     "data": {
      "text/plain": [
       "<tensorflow.python.keras.callbacks.History at 0x1d11ffefb20>"
      ]
     },
     "execution_count": 541,
     "metadata": {},
     "output_type": "execute_result"
    }
   ],
   "source": [
    "model.fit(x=X_train,y=y_train,batch_size=32,epochs=300,validation_split=0.2,callbacks=[lrr],initial_epoch=10)"
   ]
  },
  {
   "cell_type": "code",
   "execution_count": 545,
   "metadata": {},
   "outputs": [
    {
     "data": {
      "text/plain": [
       "<AxesSubplot:>"
      ]
     },
     "execution_count": 545,
     "metadata": {},
     "output_type": "execute_result"
    },
    {
     "data": {
      "image/png": "[encoded data removed]",
      "text/plain": [
       "<Figure size 432x288 with 1 Axes>"
      ]
     },
     "metadata": {
      "needs_background": "light"
     },
     "output_type": "display_data"
    }
   ],
   "source": [
    "pd.DataFrame(model.history.history).plot()"
   ]
  },
  {
   "cell_type": "code",
   "execution_count": 568,
   "metadata": {},
   "outputs": [],
   "source": []
  },
  {
   "cell_type": "code",
   "execution_count": 576,
   "metadata": {},
   "outputs": [],
   "source": [
    "pre3=(model.predict(X_test) > 0.5).astype(\"int32\")\n",
    "result=pre3.reshape(418)"
   ]
  },
  {
   "cell_type": "code",
   "execution_count": 582,
   "metadata": {},
   "outputs": [],
   "source": [
    "titanic_rfc_submisssion = pd.DataFrame({\n",
    "        \"PassengerId\": df_test[\"PassengerId\"],\n",
    "        \"Survived\": result})\n",
    "titanic_rfc_submisssion.to_csv('titanic_rfc_submisssion7',index=False)"
   ]
  },
  {
   "cell_type": "code",
   "execution_count": 573,
   "metadata": {},
   "outputs": [],
   "source": []
  },
  {
   "cell_type": "code",
   "execution_count": 581,
   "metadata": {},
   "outputs": [],
   "source": []
  },
  {
   "cell_type": "code",
   "execution_count": null,
   "metadata": {},
   "outputs": [],
   "source": []
  }
 ],
 "metadata": {
  "kernelspec": {
   "display_name": "Python 3",
   "language": "python",
   "name": "python3"
  },
  "language_info": {
   "codemirror_mode": {
    "name": "ipython",
    "version": 3
   },
   "file_extension": ".py",
   "mimetype": "text/x-python",
   "name": "python",
   "nbconvert_exporter": "python",
   "pygments_lexer": "ipython3",
   "version": "3.8.5"
  }
 },
 "nbformat": 4,
 "nbformat_minor": 4
}
